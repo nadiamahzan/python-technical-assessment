{
 "cells": [
  {
   "cell_type": "markdown",
   "metadata": {},
   "source": [
    "### Data Cleaning - Data Formatting"
   ]
  },
  {
   "cell_type": "code",
   "execution_count": 346,
   "metadata": {},
   "outputs": [],
   "source": [
    "import pandas as pd\n",
    "import csv\n",
    "import numpy as np"
   ]
  },
  {
   "cell_type": "code",
   "execution_count": 347,
   "metadata": {},
   "outputs": [],
   "source": [
    "pd.set_option('display.max_columns', None)"
   ]
  },
  {
   "cell_type": "code",
   "execution_count": 348,
   "metadata": {},
   "outputs": [
    {
     "name": "stderr",
     "output_type": "stream",
     "text": [
      "C:\\Users\\Owner\\AppData\\Local\\Temp\\ipykernel_4292\\634222433.py:6: DtypeWarning: Columns (26) have mixed types. Specify dtype option on import or set low_memory=False.\n",
      "  df = pd.read_csv('./loan_default_data.csv', on_bad_lines='warn')\n"
     ]
    },
    {
     "data": {
      "text/html": [
       "<div>\n",
       "<style scoped>\n",
       "    .dataframe tbody tr th:only-of-type {\n",
       "        vertical-align: middle;\n",
       "    }\n",
       "\n",
       "    .dataframe tbody tr th {\n",
       "        vertical-align: top;\n",
       "    }\n",
       "\n",
       "    .dataframe thead th {\n",
       "        text-align: right;\n",
       "    }\n",
       "</style>\n",
       "<table border=\"1\" class=\"dataframe\">\n",
       "  <thead>\n",
       "    <tr style=\"text-align: right;\">\n",
       "      <th></th>\n",
       "      <th>Unnamed: 0</th>\n",
       "      <th>id</th>\n",
       "      <th>member_id</th>\n",
       "      <th>loan_amount</th>\n",
       "      <th>funded_amount</th>\n",
       "      <th>funded_amount_investors</th>\n",
       "      <th>term</th>\n",
       "      <th>interest_rate</th>\n",
       "      <th>installment</th>\n",
       "      <th>employment_length</th>\n",
       "      <th>home_ownership</th>\n",
       "      <th>annual_income</th>\n",
       "      <th>verification_status</th>\n",
       "      <th>issue_date</th>\n",
       "      <th>loan_status</th>\n",
       "      <th>purpose</th>\n",
       "      <th>zip_code</th>\n",
       "      <th>address_state</th>\n",
       "      <th>debt_to_income_ratio</th>\n",
       "      <th>no_delinquency_2yrs</th>\n",
       "      <th>earliest_credit_line</th>\n",
       "      <th>inquiries_last_6mths</th>\n",
       "      <th>months_since_last_delinquency</th>\n",
       "      <th>no_open_accounts</th>\n",
       "      <th>public_records</th>\n",
       "      <th>revolving_balance</th>\n",
       "      <th>revolving_utillization</th>\n",
       "      <th>no_total_account</th>\n",
       "      <th>total_payment</th>\n",
       "      <th>total_payment_investors</th>\n",
       "      <th>total_received_principal</th>\n",
       "      <th>total_received_interest</th>\n",
       "      <th>last_payment_date</th>\n",
       "      <th>last_payment_amnt</th>\n",
       "      <th>next_payment_date</th>\n",
       "      <th>last_credit_pull_date</th>\n",
       "      <th>repay_fail</th>\n",
       "    </tr>\n",
       "  </thead>\n",
       "  <tbody>\n",
       "    <tr>\n",
       "      <th>0</th>\n",
       "      <td>2</td>\n",
       "      <td>2</td>\n",
       "      <td>2</td>\n",
       "      <td>0.0</td>\n",
       "      <td>0.0</td>\n",
       "      <td>0.00000</td>\n",
       "      <td>36 months</td>\n",
       "      <td>0.00</td>\n",
       "      <td>0.00</td>\n",
       "      <td>&lt; 1 year</td>\n",
       "      <td>RENT</td>\n",
       "      <td>0.0</td>\n",
       "      <td>Not Verified</td>\n",
       "      <td>1999-12-01</td>\n",
       "      <td>Charged Off</td>\n",
       "      <td>major_purchase</td>\n",
       "      <td>000xx</td>\n",
       "      <td>ZZ</td>\n",
       "      <td>0.00</td>\n",
       "      <td>0.0</td>\n",
       "      <td>2001-01-01</td>\n",
       "      <td>0.0</td>\n",
       "      <td>NaN</td>\n",
       "      <td>0.0</td>\n",
       "      <td>0.0</td>\n",
       "      <td>0.0</td>\n",
       "      <td>“0.00%”</td>\n",
       "      <td>1.0</td>\n",
       "      <td>0.000000</td>\n",
       "      <td>0.00</td>\n",
       "      <td>0.00</td>\n",
       "      <td>0.00</td>\n",
       "      <td>2007-01-01</td>\n",
       "      <td>0.00</td>\n",
       "      <td>2007-01-01</td>\n",
       "      <td>2007-01-01</td>\n",
       "      <td>1</td>\n",
       "    </tr>\n",
       "    <tr>\n",
       "      <th>1</th>\n",
       "      <td>3</td>\n",
       "      <td>545583</td>\n",
       "      <td>703644</td>\n",
       "      <td>2500.0</td>\n",
       "      <td>2500.0</td>\n",
       "      <td>2500.00000</td>\n",
       "      <td>36 months</td>\n",
       "      <td>13.98</td>\n",
       "      <td>85.42</td>\n",
       "      <td>4 years</td>\n",
       "      <td>RENT</td>\n",
       "      <td>20004.0</td>\n",
       "      <td>Not Verified</td>\n",
       "      <td>2010-07-01</td>\n",
       "      <td>Does not meet the credit policy. Status:Fully ...</td>\n",
       "      <td>other</td>\n",
       "      <td>487xx</td>\n",
       "      <td>MI</td>\n",
       "      <td>19.86</td>\n",
       "      <td>0.0</td>\n",
       "      <td>2005-08-01</td>\n",
       "      <td>5.0</td>\n",
       "      <td>NaN</td>\n",
       "      <td>7.0</td>\n",
       "      <td>0.0</td>\n",
       "      <td>981.0</td>\n",
       "      <td>0.213</td>\n",
       "      <td>10.0</td>\n",
       "      <td>3075.291779</td>\n",
       "      <td>3075.29</td>\n",
       "      <td>2500.00</td>\n",
       "      <td>575.29</td>\n",
       "      <td>2013-07-01</td>\n",
       "      <td>90.85</td>\n",
       "      <td>2013-08-01</td>\n",
       "      <td>2016-06-01</td>\n",
       "      <td>0</td>\n",
       "    </tr>\n",
       "    <tr>\n",
       "      <th>2</th>\n",
       "      <td>4</td>\n",
       "      <td>532101</td>\n",
       "      <td>687836</td>\n",
       "      <td>5000.0</td>\n",
       "      <td>5000.0</td>\n",
       "      <td>5000.00000</td>\n",
       "      <td>36 months</td>\n",
       "      <td>15.95</td>\n",
       "      <td>175.67</td>\n",
       "      <td>4 years</td>\n",
       "      <td>RENT</td>\n",
       "      <td>59000.0</td>\n",
       "      <td>Not Verified</td>\n",
       "      <td>2010-06-01</td>\n",
       "      <td>Charged Off</td>\n",
       "      <td>debt_consolidation</td>\n",
       "      <td>115xx</td>\n",
       "      <td>NY</td>\n",
       "      <td>19.57</td>\n",
       "      <td>0.0</td>\n",
       "      <td>1994-04-01</td>\n",
       "      <td>1.0</td>\n",
       "      <td>59.0</td>\n",
       "      <td>7.0</td>\n",
       "      <td>0.0</td>\n",
       "      <td>18773.0</td>\n",
       "      <td>0.999</td>\n",
       "      <td>15.0</td>\n",
       "      <td>2948.760000</td>\n",
       "      <td>2948.76</td>\n",
       "      <td>1909.02</td>\n",
       "      <td>873.81</td>\n",
       "      <td>2011-11-01</td>\n",
       "      <td>175.67</td>\n",
       "      <td>NaN</td>\n",
       "      <td>2012-03-01</td>\n",
       "      <td>1</td>\n",
       "    </tr>\n",
       "    <tr>\n",
       "      <th>3</th>\n",
       "      <td>5</td>\n",
       "      <td>877788</td>\n",
       "      <td>1092507</td>\n",
       "      <td>7000.0</td>\n",
       "      <td>7000.0</td>\n",
       "      <td>7000.00000</td>\n",
       "      <td>36 months</td>\n",
       "      <td>9.91</td>\n",
       "      <td>225.58</td>\n",
       "      <td>10+ years</td>\n",
       "      <td>MORTGAGE</td>\n",
       "      <td>53796.0</td>\n",
       "      <td>Not Verified</td>\n",
       "      <td>2011-09-01</td>\n",
       "      <td>Fully Paid</td>\n",
       "      <td>other</td>\n",
       "      <td>751xx</td>\n",
       "      <td>TX</td>\n",
       "      <td>10.80</td>\n",
       "      <td>3.0</td>\n",
       "      <td>1998-03-01</td>\n",
       "      <td>3.0</td>\n",
       "      <td>3.0</td>\n",
       "      <td>7.0</td>\n",
       "      <td>0.0</td>\n",
       "      <td>3269.0</td>\n",
       "      <td>0.472</td>\n",
       "      <td>20.0</td>\n",
       "      <td>8082.391880</td>\n",
       "      <td>8082.39</td>\n",
       "      <td>7000.00</td>\n",
       "      <td>1082.39</td>\n",
       "      <td>2014-03-01</td>\n",
       "      <td>1550.27</td>\n",
       "      <td>NaN</td>\n",
       "      <td>2014-03-01</td>\n",
       "      <td>0</td>\n",
       "    </tr>\n",
       "    <tr>\n",
       "      <th>4</th>\n",
       "      <td>6</td>\n",
       "      <td>875406</td>\n",
       "      <td>1089981</td>\n",
       "      <td>2000.0</td>\n",
       "      <td>2000.0</td>\n",
       "      <td>2000.00000</td>\n",
       "      <td>36 months</td>\n",
       "      <td>5.42</td>\n",
       "      <td>60.32</td>\n",
       "      <td>10+ years</td>\n",
       "      <td>RENT</td>\n",
       "      <td>30000.0</td>\n",
       "      <td>Not Verified</td>\n",
       "      <td>2011-09-01</td>\n",
       "      <td>Fully Paid</td>\n",
       "      <td>debt_consolidation</td>\n",
       "      <td>112xx</td>\n",
       "      <td>NY</td>\n",
       "      <td>3.60</td>\n",
       "      <td>0.0</td>\n",
       "      <td>1975-01-01</td>\n",
       "      <td>0.0</td>\n",
       "      <td>72.0</td>\n",
       "      <td>7.0</td>\n",
       "      <td>0.0</td>\n",
       "      <td>0.0</td>\n",
       "      <td>0</td>\n",
       "      <td>15.0</td>\n",
       "      <td>2161.663244</td>\n",
       "      <td>2161.66</td>\n",
       "      <td>2000.00</td>\n",
       "      <td>161.66</td>\n",
       "      <td>2014-02-01</td>\n",
       "      <td>53.12</td>\n",
       "      <td>NaN</td>\n",
       "      <td>2016-06-01</td>\n",
       "      <td>0</td>\n",
       "    </tr>\n",
       "    <tr>\n",
       "      <th>...</th>\n",
       "      <td>...</td>\n",
       "      <td>...</td>\n",
       "      <td>...</td>\n",
       "      <td>...</td>\n",
       "      <td>...</td>\n",
       "      <td>...</td>\n",
       "      <td>...</td>\n",
       "      <td>...</td>\n",
       "      <td>...</td>\n",
       "      <td>...</td>\n",
       "      <td>...</td>\n",
       "      <td>...</td>\n",
       "      <td>...</td>\n",
       "      <td>...</td>\n",
       "      <td>...</td>\n",
       "      <td>...</td>\n",
       "      <td>...</td>\n",
       "      <td>...</td>\n",
       "      <td>...</td>\n",
       "      <td>...</td>\n",
       "      <td>...</td>\n",
       "      <td>...</td>\n",
       "      <td>...</td>\n",
       "      <td>...</td>\n",
       "      <td>...</td>\n",
       "      <td>...</td>\n",
       "      <td>...</td>\n",
       "      <td>...</td>\n",
       "      <td>...</td>\n",
       "      <td>...</td>\n",
       "      <td>...</td>\n",
       "      <td>...</td>\n",
       "      <td>...</td>\n",
       "      <td>...</td>\n",
       "      <td>...</td>\n",
       "      <td>...</td>\n",
       "      <td>...</td>\n",
       "    </tr>\n",
       "    <tr>\n",
       "      <th>38475</th>\n",
       "      <td>38476</td>\n",
       "      <td>849205</td>\n",
       "      <td>1060907</td>\n",
       "      <td>3000.0</td>\n",
       "      <td>3000.0</td>\n",
       "      <td>3000.00000</td>\n",
       "      <td>36 months</td>\n",
       "      <td>11.99</td>\n",
       "      <td>99.63</td>\n",
       "      <td>3 years</td>\n",
       "      <td>RENT</td>\n",
       "      <td>74250.0</td>\n",
       "      <td>Verified</td>\n",
       "      <td>2011-08-01</td>\n",
       "      <td>Fully Paid</td>\n",
       "      <td>credit_card</td>\n",
       "      <td>805xx</td>\n",
       "      <td>CO</td>\n",
       "      <td>22.17</td>\n",
       "      <td>0.0</td>\n",
       "      <td>2000-01-01</td>\n",
       "      <td>2.0</td>\n",
       "      <td>NaN</td>\n",
       "      <td>12.0</td>\n",
       "      <td>0.0</td>\n",
       "      <td>16550.0</td>\n",
       "      <td>0.735</td>\n",
       "      <td>22.0</td>\n",
       "      <td>3586.619764</td>\n",
       "      <td>3586.62</td>\n",
       "      <td>3000.00</td>\n",
       "      <td>586.62</td>\n",
       "      <td>2014-08-01</td>\n",
       "      <td>100.30</td>\n",
       "      <td>NaN</td>\n",
       "      <td>2016-06-01</td>\n",
       "      <td>0</td>\n",
       "    </tr>\n",
       "    <tr>\n",
       "      <th>38476</th>\n",
       "      <td>38477</td>\n",
       "      <td>852914</td>\n",
       "      <td>1065048</td>\n",
       "      <td>10400.0</td>\n",
       "      <td>10400.0</td>\n",
       "      <td>10400.00000</td>\n",
       "      <td>36 months</td>\n",
       "      <td>13.49</td>\n",
       "      <td>352.88</td>\n",
       "      <td>9 years</td>\n",
       "      <td>RENT</td>\n",
       "      <td>62000.0</td>\n",
       "      <td>Source Verified</td>\n",
       "      <td>2011-08-01</td>\n",
       "      <td>Fully Paid</td>\n",
       "      <td>credit_card</td>\n",
       "      <td>442xx</td>\n",
       "      <td>OH</td>\n",
       "      <td>11.57</td>\n",
       "      <td>0.0</td>\n",
       "      <td>1999-04-01</td>\n",
       "      <td>1.0</td>\n",
       "      <td>NaN</td>\n",
       "      <td>21.0</td>\n",
       "      <td>0.0</td>\n",
       "      <td>16898.0</td>\n",
       "      <td>0.397</td>\n",
       "      <td>33.0</td>\n",
       "      <td>12703.534030</td>\n",
       "      <td>12703.53</td>\n",
       "      <td>10400.00</td>\n",
       "      <td>2303.53</td>\n",
       "      <td>2014-09-01</td>\n",
       "      <td>393.08</td>\n",
       "      <td>NaN</td>\n",
       "      <td>2016-06-01</td>\n",
       "      <td>0</td>\n",
       "    </tr>\n",
       "    <tr>\n",
       "      <th>38477</th>\n",
       "      <td>38478</td>\n",
       "      <td>519553</td>\n",
       "      <td>671637</td>\n",
       "      <td>16000.0</td>\n",
       "      <td>10550.0</td>\n",
       "      <td>10531.35818</td>\n",
       "      <td>60 months</td>\n",
       "      <td>14.96</td>\n",
       "      <td>250.77</td>\n",
       "      <td>10+ years</td>\n",
       "      <td>MORTGAGE</td>\n",
       "      <td>95088.0</td>\n",
       "      <td>Source Verified</td>\n",
       "      <td>2010-05-01</td>\n",
       "      <td>Fully Paid</td>\n",
       "      <td>debt_consolidation</td>\n",
       "      <td>073xx</td>\n",
       "      <td>NJ</td>\n",
       "      <td>10.63</td>\n",
       "      <td>0.0</td>\n",
       "      <td>1995-12-01</td>\n",
       "      <td>1.0</td>\n",
       "      <td>NaN</td>\n",
       "      <td>9.0</td>\n",
       "      <td>1.0</td>\n",
       "      <td>10386.0</td>\n",
       "      <td>0.622</td>\n",
       "      <td>25.0</td>\n",
       "      <td>14202.267530</td>\n",
       "      <td>14163.31</td>\n",
       "      <td>10550.00</td>\n",
       "      <td>3652.27</td>\n",
       "      <td>2013-06-01</td>\n",
       "      <td>5439.96</td>\n",
       "      <td>NaN</td>\n",
       "      <td>2016-02-01</td>\n",
       "      <td>0</td>\n",
       "    </tr>\n",
       "    <tr>\n",
       "      <th>38478</th>\n",
       "      <td>38479</td>\n",
       "      <td>825638</td>\n",
       "      <td>1034448</td>\n",
       "      <td>10000.0</td>\n",
       "      <td>10000.0</td>\n",
       "      <td>10000.00000</td>\n",
       "      <td>36 months</td>\n",
       "      <td>16.89</td>\n",
       "      <td>355.99</td>\n",
       "      <td>1 year</td>\n",
       "      <td>RENT</td>\n",
       "      <td>48720.0</td>\n",
       "      <td>Not Verified</td>\n",
       "      <td>2011-07-01</td>\n",
       "      <td>Fully Paid</td>\n",
       "      <td>debt_consolidation</td>\n",
       "      <td>061xx</td>\n",
       "      <td>CT</td>\n",
       "      <td>18.97</td>\n",
       "      <td>0.0</td>\n",
       "      <td>2007-07-01</td>\n",
       "      <td>2.0</td>\n",
       "      <td>NaN</td>\n",
       "      <td>8.0</td>\n",
       "      <td>0.0</td>\n",
       "      <td>7301.0</td>\n",
       "      <td>0.533</td>\n",
       "      <td>12.0</td>\n",
       "      <td>12815.178320</td>\n",
       "      <td>12815.18</td>\n",
       "      <td>10000.00</td>\n",
       "      <td>2815.18</td>\n",
       "      <td>2014-08-01</td>\n",
       "      <td>380.63</td>\n",
       "      <td>NaN</td>\n",
       "      <td>2015-09-01</td>\n",
       "      <td>0</td>\n",
       "    </tr>\n",
       "    <tr>\n",
       "      <th>38479</th>\n",
       "      <td>38480</td>\n",
       "      <td>1029847</td>\n",
       "      <td>1249126</td>\n",
       "      <td>3200.0</td>\n",
       "      <td>3200.0</td>\n",
       "      <td>3200.00000</td>\n",
       "      <td>36 months</td>\n",
       "      <td>13.49</td>\n",
       "      <td>108.58</td>\n",
       "      <td>7 years</td>\n",
       "      <td>RENT</td>\n",
       "      <td>38400.0</td>\n",
       "      <td>Source Verified</td>\n",
       "      <td>2011-11-01</td>\n",
       "      <td>Fully Paid</td>\n",
       "      <td>debt_consolidation</td>\n",
       "      <td>484xx</td>\n",
       "      <td>MI</td>\n",
       "      <td>12.56</td>\n",
       "      <td>0.0</td>\n",
       "      <td>1995-10-01</td>\n",
       "      <td>2.0</td>\n",
       "      <td>38.0</td>\n",
       "      <td>8.0</td>\n",
       "      <td>1.0</td>\n",
       "      <td>2503.0</td>\n",
       "      <td>0.626</td>\n",
       "      <td>18.0</td>\n",
       "      <td>3908.767275</td>\n",
       "      <td>3908.77</td>\n",
       "      <td>3200.00</td>\n",
       "      <td>708.77</td>\n",
       "      <td>2014-12-01</td>\n",
       "      <td>111.88</td>\n",
       "      <td>NaN</td>\n",
       "      <td>2014-11-01</td>\n",
       "      <td>0</td>\n",
       "    </tr>\n",
       "  </tbody>\n",
       "</table>\n",
       "<p>38480 rows × 37 columns</p>\n",
       "</div>"
      ],
      "text/plain": [
       "       Unnamed: 0       id  member_id  loan_amount  funded_amount  \\\n",
       "0               2        2          2          0.0            0.0   \n",
       "1               3   545583     703644       2500.0         2500.0   \n",
       "2               4   532101     687836       5000.0         5000.0   \n",
       "3               5   877788    1092507       7000.0         7000.0   \n",
       "4               6   875406    1089981       2000.0         2000.0   \n",
       "...           ...      ...        ...          ...            ...   \n",
       "38475       38476   849205    1060907       3000.0         3000.0   \n",
       "38476       38477   852914    1065048      10400.0        10400.0   \n",
       "38477       38478   519553     671637      16000.0        10550.0   \n",
       "38478       38479   825638    1034448      10000.0        10000.0   \n",
       "38479       38480  1029847    1249126       3200.0         3200.0   \n",
       "\n",
       "       funded_amount_investors       term  interest_rate  installment  \\\n",
       "0                      0.00000  36 months           0.00         0.00   \n",
       "1                   2500.00000  36 months          13.98        85.42   \n",
       "2                   5000.00000  36 months          15.95       175.67   \n",
       "3                   7000.00000  36 months           9.91       225.58   \n",
       "4                   2000.00000  36 months           5.42        60.32   \n",
       "...                        ...        ...            ...          ...   \n",
       "38475               3000.00000  36 months          11.99        99.63   \n",
       "38476              10400.00000  36 months          13.49       352.88   \n",
       "38477              10531.35818  60 months          14.96       250.77   \n",
       "38478              10000.00000  36 months          16.89       355.99   \n",
       "38479               3200.00000  36 months          13.49       108.58   \n",
       "\n",
       "      employment_length home_ownership  annual_income verification_status  \\\n",
       "0              < 1 year           RENT            0.0        Not Verified   \n",
       "1               4 years           RENT        20004.0        Not Verified   \n",
       "2               4 years           RENT        59000.0        Not Verified   \n",
       "3             10+ years       MORTGAGE        53796.0        Not Verified   \n",
       "4             10+ years           RENT        30000.0        Not Verified   \n",
       "...                 ...            ...            ...                 ...   \n",
       "38475           3 years           RENT        74250.0            Verified   \n",
       "38476           9 years           RENT        62000.0     Source Verified   \n",
       "38477         10+ years       MORTGAGE        95088.0     Source Verified   \n",
       "38478            1 year           RENT        48720.0        Not Verified   \n",
       "38479           7 years           RENT        38400.0     Source Verified   \n",
       "\n",
       "       issue_date                                        loan_status  \\\n",
       "0      1999-12-01                                        Charged Off   \n",
       "1      2010-07-01  Does not meet the credit policy. Status:Fully ...   \n",
       "2      2010-06-01                                        Charged Off   \n",
       "3      2011-09-01                                         Fully Paid   \n",
       "4      2011-09-01                                         Fully Paid   \n",
       "...           ...                                                ...   \n",
       "38475  2011-08-01                                         Fully Paid   \n",
       "38476  2011-08-01                                         Fully Paid   \n",
       "38477  2010-05-01                                         Fully Paid   \n",
       "38478  2011-07-01                                         Fully Paid   \n",
       "38479  2011-11-01                                         Fully Paid   \n",
       "\n",
       "                  purpose zip_code address_state  debt_to_income_ratio  \\\n",
       "0          major_purchase    000xx            ZZ                  0.00   \n",
       "1                   other    487xx            MI                 19.86   \n",
       "2      debt_consolidation    115xx            NY                 19.57   \n",
       "3                   other    751xx            TX                 10.80   \n",
       "4      debt_consolidation    112xx            NY                  3.60   \n",
       "...                   ...      ...           ...                   ...   \n",
       "38475         credit_card    805xx            CO                 22.17   \n",
       "38476         credit_card    442xx            OH                 11.57   \n",
       "38477  debt_consolidation    073xx            NJ                 10.63   \n",
       "38478  debt_consolidation    061xx            CT                 18.97   \n",
       "38479  debt_consolidation    484xx            MI                 12.56   \n",
       "\n",
       "       no_delinquency_2yrs earliest_credit_line  inquiries_last_6mths  \\\n",
       "0                      0.0           2001-01-01                   0.0   \n",
       "1                      0.0           2005-08-01                   5.0   \n",
       "2                      0.0           1994-04-01                   1.0   \n",
       "3                      3.0           1998-03-01                   3.0   \n",
       "4                      0.0           1975-01-01                   0.0   \n",
       "...                    ...                  ...                   ...   \n",
       "38475                  0.0           2000-01-01                   2.0   \n",
       "38476                  0.0           1999-04-01                   1.0   \n",
       "38477                  0.0           1995-12-01                   1.0   \n",
       "38478                  0.0           2007-07-01                   2.0   \n",
       "38479                  0.0           1995-10-01                   2.0   \n",
       "\n",
       "       months_since_last_delinquency  no_open_accounts  public_records  \\\n",
       "0                                NaN               0.0             0.0   \n",
       "1                                NaN               7.0             0.0   \n",
       "2                               59.0               7.0             0.0   \n",
       "3                                3.0               7.0             0.0   \n",
       "4                               72.0               7.0             0.0   \n",
       "...                              ...               ...             ...   \n",
       "38475                            NaN              12.0             0.0   \n",
       "38476                            NaN              21.0             0.0   \n",
       "38477                            NaN               9.0             1.0   \n",
       "38478                            NaN               8.0             0.0   \n",
       "38479                           38.0               8.0             1.0   \n",
       "\n",
       "       revolving_balance revolving_utillization  no_total_account  \\\n",
       "0                    0.0                “0.00%”               1.0   \n",
       "1                  981.0                  0.213              10.0   \n",
       "2                18773.0                  0.999              15.0   \n",
       "3                 3269.0                  0.472              20.0   \n",
       "4                    0.0                      0              15.0   \n",
       "...                  ...                    ...               ...   \n",
       "38475            16550.0                  0.735              22.0   \n",
       "38476            16898.0                  0.397              33.0   \n",
       "38477            10386.0                  0.622              25.0   \n",
       "38478             7301.0                  0.533              12.0   \n",
       "38479             2503.0                  0.626              18.0   \n",
       "\n",
       "       total_payment  total_payment_investors  total_received_principal  \\\n",
       "0           0.000000                     0.00                      0.00   \n",
       "1        3075.291779                  3075.29                   2500.00   \n",
       "2        2948.760000                  2948.76                   1909.02   \n",
       "3        8082.391880                  8082.39                   7000.00   \n",
       "4        2161.663244                  2161.66                   2000.00   \n",
       "...              ...                      ...                       ...   \n",
       "38475    3586.619764                  3586.62                   3000.00   \n",
       "38476   12703.534030                 12703.53                  10400.00   \n",
       "38477   14202.267530                 14163.31                  10550.00   \n",
       "38478   12815.178320                 12815.18                  10000.00   \n",
       "38479    3908.767275                  3908.77                   3200.00   \n",
       "\n",
       "       total_received_interest last_payment_date  last_payment_amnt  \\\n",
       "0                         0.00        2007-01-01               0.00   \n",
       "1                       575.29        2013-07-01              90.85   \n",
       "2                       873.81        2011-11-01             175.67   \n",
       "3                      1082.39        2014-03-01            1550.27   \n",
       "4                       161.66        2014-02-01              53.12   \n",
       "...                        ...               ...                ...   \n",
       "38475                   586.62        2014-08-01             100.30   \n",
       "38476                  2303.53        2014-09-01             393.08   \n",
       "38477                  3652.27        2013-06-01            5439.96   \n",
       "38478                  2815.18        2014-08-01             380.63   \n",
       "38479                   708.77        2014-12-01             111.88   \n",
       "\n",
       "      next_payment_date last_credit_pull_date  repay_fail  \n",
       "0            2007-01-01            2007-01-01           1  \n",
       "1            2013-08-01            2016-06-01           0  \n",
       "2                   NaN            2012-03-01           1  \n",
       "3                   NaN            2014-03-01           0  \n",
       "4                   NaN            2016-06-01           0  \n",
       "...                 ...                   ...         ...  \n",
       "38475               NaN            2016-06-01           0  \n",
       "38476               NaN            2016-06-01           0  \n",
       "38477               NaN            2016-02-01           0  \n",
       "38478               NaN            2015-09-01           0  \n",
       "38479               NaN            2014-11-01           0  \n",
       "\n",
       "[38480 rows x 37 columns]"
      ]
     },
     "execution_count": 348,
     "metadata": {},
     "output_type": "execute_result"
    }
   ],
   "source": [
    "# read the data and convert to csv\n",
    "read_file = pd.read_excel('./loan_default_data.xlsx')\n",
    "read_file.to_csv (\"./loan_default_data.csv\",  \n",
    "                  index = None, \n",
    "                  header=True) \n",
    "df = pd.read_csv('./loan_default_data.csv', on_bad_lines='warn')\n",
    "df"
   ]
  },
  {
   "cell_type": "code",
   "execution_count": 349,
   "metadata": {},
   "outputs": [
    {
     "data": {
      "text/html": [
       "<div>\n",
       "<style scoped>\n",
       "    .dataframe tbody tr th:only-of-type {\n",
       "        vertical-align: middle;\n",
       "    }\n",
       "\n",
       "    .dataframe tbody tr th {\n",
       "        vertical-align: top;\n",
       "    }\n",
       "\n",
       "    .dataframe thead th {\n",
       "        text-align: right;\n",
       "    }\n",
       "</style>\n",
       "<table border=\"1\" class=\"dataframe\">\n",
       "  <thead>\n",
       "    <tr style=\"text-align: right;\">\n",
       "      <th></th>\n",
       "      <th>id</th>\n",
       "      <th>member_id</th>\n",
       "      <th>loan_amount</th>\n",
       "      <th>funded_amount</th>\n",
       "      <th>funded_amount_investors</th>\n",
       "      <th>term</th>\n",
       "      <th>interest_rate</th>\n",
       "      <th>installment</th>\n",
       "      <th>employment_length</th>\n",
       "      <th>home_ownership</th>\n",
       "      <th>annual_income</th>\n",
       "      <th>verification_status</th>\n",
       "      <th>issue_date</th>\n",
       "      <th>loan_status</th>\n",
       "      <th>purpose</th>\n",
       "      <th>zip_code</th>\n",
       "      <th>address_state</th>\n",
       "      <th>debt_to_income_ratio</th>\n",
       "      <th>no_delinquency_2yrs</th>\n",
       "      <th>earliest_credit_line</th>\n",
       "      <th>inquiries_last_6mths</th>\n",
       "      <th>months_since_last_delinquency</th>\n",
       "      <th>no_open_accounts</th>\n",
       "      <th>public_records</th>\n",
       "      <th>revolving_balance</th>\n",
       "      <th>revolving_utillization</th>\n",
       "      <th>no_total_account</th>\n",
       "      <th>total_payment</th>\n",
       "      <th>total_payment_investors</th>\n",
       "      <th>total_received_principal</th>\n",
       "      <th>total_received_interest</th>\n",
       "      <th>last_payment_date</th>\n",
       "      <th>last_payment_amnt</th>\n",
       "      <th>next_payment_date</th>\n",
       "      <th>last_credit_pull_date</th>\n",
       "      <th>repay_fail</th>\n",
       "    </tr>\n",
       "  </thead>\n",
       "  <tbody>\n",
       "    <tr>\n",
       "      <th>0</th>\n",
       "      <td>2</td>\n",
       "      <td>2</td>\n",
       "      <td>0.0</td>\n",
       "      <td>0.0</td>\n",
       "      <td>0.00000</td>\n",
       "      <td>36 months</td>\n",
       "      <td>0.00</td>\n",
       "      <td>0.00</td>\n",
       "      <td>&lt; 1 year</td>\n",
       "      <td>RENT</td>\n",
       "      <td>0.0</td>\n",
       "      <td>Not Verified</td>\n",
       "      <td>1999-12-01</td>\n",
       "      <td>Charged Off</td>\n",
       "      <td>major_purchase</td>\n",
       "      <td>000xx</td>\n",
       "      <td>ZZ</td>\n",
       "      <td>0.00</td>\n",
       "      <td>0.0</td>\n",
       "      <td>2001-01-01</td>\n",
       "      <td>0.0</td>\n",
       "      <td>NaN</td>\n",
       "      <td>0.0</td>\n",
       "      <td>0.0</td>\n",
       "      <td>0.0</td>\n",
       "      <td>“0.00%”</td>\n",
       "      <td>1.0</td>\n",
       "      <td>0.000000</td>\n",
       "      <td>0.00</td>\n",
       "      <td>0.00</td>\n",
       "      <td>0.00</td>\n",
       "      <td>2007-01-01</td>\n",
       "      <td>0.00</td>\n",
       "      <td>2007-01-01</td>\n",
       "      <td>2007-01-01</td>\n",
       "      <td>1</td>\n",
       "    </tr>\n",
       "    <tr>\n",
       "      <th>1</th>\n",
       "      <td>545583</td>\n",
       "      <td>703644</td>\n",
       "      <td>2500.0</td>\n",
       "      <td>2500.0</td>\n",
       "      <td>2500.00000</td>\n",
       "      <td>36 months</td>\n",
       "      <td>13.98</td>\n",
       "      <td>85.42</td>\n",
       "      <td>4 years</td>\n",
       "      <td>RENT</td>\n",
       "      <td>20004.0</td>\n",
       "      <td>Not Verified</td>\n",
       "      <td>2010-07-01</td>\n",
       "      <td>Does not meet the credit policy. Status:Fully ...</td>\n",
       "      <td>other</td>\n",
       "      <td>487xx</td>\n",
       "      <td>MI</td>\n",
       "      <td>19.86</td>\n",
       "      <td>0.0</td>\n",
       "      <td>2005-08-01</td>\n",
       "      <td>5.0</td>\n",
       "      <td>NaN</td>\n",
       "      <td>7.0</td>\n",
       "      <td>0.0</td>\n",
       "      <td>981.0</td>\n",
       "      <td>0.213</td>\n",
       "      <td>10.0</td>\n",
       "      <td>3075.291779</td>\n",
       "      <td>3075.29</td>\n",
       "      <td>2500.00</td>\n",
       "      <td>575.29</td>\n",
       "      <td>2013-07-01</td>\n",
       "      <td>90.85</td>\n",
       "      <td>2013-08-01</td>\n",
       "      <td>2016-06-01</td>\n",
       "      <td>0</td>\n",
       "    </tr>\n",
       "    <tr>\n",
       "      <th>2</th>\n",
       "      <td>532101</td>\n",
       "      <td>687836</td>\n",
       "      <td>5000.0</td>\n",
       "      <td>5000.0</td>\n",
       "      <td>5000.00000</td>\n",
       "      <td>36 months</td>\n",
       "      <td>15.95</td>\n",
       "      <td>175.67</td>\n",
       "      <td>4 years</td>\n",
       "      <td>RENT</td>\n",
       "      <td>59000.0</td>\n",
       "      <td>Not Verified</td>\n",
       "      <td>2010-06-01</td>\n",
       "      <td>Charged Off</td>\n",
       "      <td>debt_consolidation</td>\n",
       "      <td>115xx</td>\n",
       "      <td>NY</td>\n",
       "      <td>19.57</td>\n",
       "      <td>0.0</td>\n",
       "      <td>1994-04-01</td>\n",
       "      <td>1.0</td>\n",
       "      <td>59.0</td>\n",
       "      <td>7.0</td>\n",
       "      <td>0.0</td>\n",
       "      <td>18773.0</td>\n",
       "      <td>0.999</td>\n",
       "      <td>15.0</td>\n",
       "      <td>2948.760000</td>\n",
       "      <td>2948.76</td>\n",
       "      <td>1909.02</td>\n",
       "      <td>873.81</td>\n",
       "      <td>2011-11-01</td>\n",
       "      <td>175.67</td>\n",
       "      <td>NaN</td>\n",
       "      <td>2012-03-01</td>\n",
       "      <td>1</td>\n",
       "    </tr>\n",
       "    <tr>\n",
       "      <th>3</th>\n",
       "      <td>877788</td>\n",
       "      <td>1092507</td>\n",
       "      <td>7000.0</td>\n",
       "      <td>7000.0</td>\n",
       "      <td>7000.00000</td>\n",
       "      <td>36 months</td>\n",
       "      <td>9.91</td>\n",
       "      <td>225.58</td>\n",
       "      <td>10+ years</td>\n",
       "      <td>MORTGAGE</td>\n",
       "      <td>53796.0</td>\n",
       "      <td>Not Verified</td>\n",
       "      <td>2011-09-01</td>\n",
       "      <td>Fully Paid</td>\n",
       "      <td>other</td>\n",
       "      <td>751xx</td>\n",
       "      <td>TX</td>\n",
       "      <td>10.80</td>\n",
       "      <td>3.0</td>\n",
       "      <td>1998-03-01</td>\n",
       "      <td>3.0</td>\n",
       "      <td>3.0</td>\n",
       "      <td>7.0</td>\n",
       "      <td>0.0</td>\n",
       "      <td>3269.0</td>\n",
       "      <td>0.472</td>\n",
       "      <td>20.0</td>\n",
       "      <td>8082.391880</td>\n",
       "      <td>8082.39</td>\n",
       "      <td>7000.00</td>\n",
       "      <td>1082.39</td>\n",
       "      <td>2014-03-01</td>\n",
       "      <td>1550.27</td>\n",
       "      <td>NaN</td>\n",
       "      <td>2014-03-01</td>\n",
       "      <td>0</td>\n",
       "    </tr>\n",
       "    <tr>\n",
       "      <th>4</th>\n",
       "      <td>875406</td>\n",
       "      <td>1089981</td>\n",
       "      <td>2000.0</td>\n",
       "      <td>2000.0</td>\n",
       "      <td>2000.00000</td>\n",
       "      <td>36 months</td>\n",
       "      <td>5.42</td>\n",
       "      <td>60.32</td>\n",
       "      <td>10+ years</td>\n",
       "      <td>RENT</td>\n",
       "      <td>30000.0</td>\n",
       "      <td>Not Verified</td>\n",
       "      <td>2011-09-01</td>\n",
       "      <td>Fully Paid</td>\n",
       "      <td>debt_consolidation</td>\n",
       "      <td>112xx</td>\n",
       "      <td>NY</td>\n",
       "      <td>3.60</td>\n",
       "      <td>0.0</td>\n",
       "      <td>1975-01-01</td>\n",
       "      <td>0.0</td>\n",
       "      <td>72.0</td>\n",
       "      <td>7.0</td>\n",
       "      <td>0.0</td>\n",
       "      <td>0.0</td>\n",
       "      <td>0</td>\n",
       "      <td>15.0</td>\n",
       "      <td>2161.663244</td>\n",
       "      <td>2161.66</td>\n",
       "      <td>2000.00</td>\n",
       "      <td>161.66</td>\n",
       "      <td>2014-02-01</td>\n",
       "      <td>53.12</td>\n",
       "      <td>NaN</td>\n",
       "      <td>2016-06-01</td>\n",
       "      <td>0</td>\n",
       "    </tr>\n",
       "    <tr>\n",
       "      <th>...</th>\n",
       "      <td>...</td>\n",
       "      <td>...</td>\n",
       "      <td>...</td>\n",
       "      <td>...</td>\n",
       "      <td>...</td>\n",
       "      <td>...</td>\n",
       "      <td>...</td>\n",
       "      <td>...</td>\n",
       "      <td>...</td>\n",
       "      <td>...</td>\n",
       "      <td>...</td>\n",
       "      <td>...</td>\n",
       "      <td>...</td>\n",
       "      <td>...</td>\n",
       "      <td>...</td>\n",
       "      <td>...</td>\n",
       "      <td>...</td>\n",
       "      <td>...</td>\n",
       "      <td>...</td>\n",
       "      <td>...</td>\n",
       "      <td>...</td>\n",
       "      <td>...</td>\n",
       "      <td>...</td>\n",
       "      <td>...</td>\n",
       "      <td>...</td>\n",
       "      <td>...</td>\n",
       "      <td>...</td>\n",
       "      <td>...</td>\n",
       "      <td>...</td>\n",
       "      <td>...</td>\n",
       "      <td>...</td>\n",
       "      <td>...</td>\n",
       "      <td>...</td>\n",
       "      <td>...</td>\n",
       "      <td>...</td>\n",
       "      <td>...</td>\n",
       "    </tr>\n",
       "    <tr>\n",
       "      <th>38475</th>\n",
       "      <td>849205</td>\n",
       "      <td>1060907</td>\n",
       "      <td>3000.0</td>\n",
       "      <td>3000.0</td>\n",
       "      <td>3000.00000</td>\n",
       "      <td>36 months</td>\n",
       "      <td>11.99</td>\n",
       "      <td>99.63</td>\n",
       "      <td>3 years</td>\n",
       "      <td>RENT</td>\n",
       "      <td>74250.0</td>\n",
       "      <td>Verified</td>\n",
       "      <td>2011-08-01</td>\n",
       "      <td>Fully Paid</td>\n",
       "      <td>credit_card</td>\n",
       "      <td>805xx</td>\n",
       "      <td>CO</td>\n",
       "      <td>22.17</td>\n",
       "      <td>0.0</td>\n",
       "      <td>2000-01-01</td>\n",
       "      <td>2.0</td>\n",
       "      <td>NaN</td>\n",
       "      <td>12.0</td>\n",
       "      <td>0.0</td>\n",
       "      <td>16550.0</td>\n",
       "      <td>0.735</td>\n",
       "      <td>22.0</td>\n",
       "      <td>3586.619764</td>\n",
       "      <td>3586.62</td>\n",
       "      <td>3000.00</td>\n",
       "      <td>586.62</td>\n",
       "      <td>2014-08-01</td>\n",
       "      <td>100.30</td>\n",
       "      <td>NaN</td>\n",
       "      <td>2016-06-01</td>\n",
       "      <td>0</td>\n",
       "    </tr>\n",
       "    <tr>\n",
       "      <th>38476</th>\n",
       "      <td>852914</td>\n",
       "      <td>1065048</td>\n",
       "      <td>10400.0</td>\n",
       "      <td>10400.0</td>\n",
       "      <td>10400.00000</td>\n",
       "      <td>36 months</td>\n",
       "      <td>13.49</td>\n",
       "      <td>352.88</td>\n",
       "      <td>9 years</td>\n",
       "      <td>RENT</td>\n",
       "      <td>62000.0</td>\n",
       "      <td>Source Verified</td>\n",
       "      <td>2011-08-01</td>\n",
       "      <td>Fully Paid</td>\n",
       "      <td>credit_card</td>\n",
       "      <td>442xx</td>\n",
       "      <td>OH</td>\n",
       "      <td>11.57</td>\n",
       "      <td>0.0</td>\n",
       "      <td>1999-04-01</td>\n",
       "      <td>1.0</td>\n",
       "      <td>NaN</td>\n",
       "      <td>21.0</td>\n",
       "      <td>0.0</td>\n",
       "      <td>16898.0</td>\n",
       "      <td>0.397</td>\n",
       "      <td>33.0</td>\n",
       "      <td>12703.534030</td>\n",
       "      <td>12703.53</td>\n",
       "      <td>10400.00</td>\n",
       "      <td>2303.53</td>\n",
       "      <td>2014-09-01</td>\n",
       "      <td>393.08</td>\n",
       "      <td>NaN</td>\n",
       "      <td>2016-06-01</td>\n",
       "      <td>0</td>\n",
       "    </tr>\n",
       "    <tr>\n",
       "      <th>38477</th>\n",
       "      <td>519553</td>\n",
       "      <td>671637</td>\n",
       "      <td>16000.0</td>\n",
       "      <td>10550.0</td>\n",
       "      <td>10531.35818</td>\n",
       "      <td>60 months</td>\n",
       "      <td>14.96</td>\n",
       "      <td>250.77</td>\n",
       "      <td>10+ years</td>\n",
       "      <td>MORTGAGE</td>\n",
       "      <td>95088.0</td>\n",
       "      <td>Source Verified</td>\n",
       "      <td>2010-05-01</td>\n",
       "      <td>Fully Paid</td>\n",
       "      <td>debt_consolidation</td>\n",
       "      <td>073xx</td>\n",
       "      <td>NJ</td>\n",
       "      <td>10.63</td>\n",
       "      <td>0.0</td>\n",
       "      <td>1995-12-01</td>\n",
       "      <td>1.0</td>\n",
       "      <td>NaN</td>\n",
       "      <td>9.0</td>\n",
       "      <td>1.0</td>\n",
       "      <td>10386.0</td>\n",
       "      <td>0.622</td>\n",
       "      <td>25.0</td>\n",
       "      <td>14202.267530</td>\n",
       "      <td>14163.31</td>\n",
       "      <td>10550.00</td>\n",
       "      <td>3652.27</td>\n",
       "      <td>2013-06-01</td>\n",
       "      <td>5439.96</td>\n",
       "      <td>NaN</td>\n",
       "      <td>2016-02-01</td>\n",
       "      <td>0</td>\n",
       "    </tr>\n",
       "    <tr>\n",
       "      <th>38478</th>\n",
       "      <td>825638</td>\n",
       "      <td>1034448</td>\n",
       "      <td>10000.0</td>\n",
       "      <td>10000.0</td>\n",
       "      <td>10000.00000</td>\n",
       "      <td>36 months</td>\n",
       "      <td>16.89</td>\n",
       "      <td>355.99</td>\n",
       "      <td>1 year</td>\n",
       "      <td>RENT</td>\n",
       "      <td>48720.0</td>\n",
       "      <td>Not Verified</td>\n",
       "      <td>2011-07-01</td>\n",
       "      <td>Fully Paid</td>\n",
       "      <td>debt_consolidation</td>\n",
       "      <td>061xx</td>\n",
       "      <td>CT</td>\n",
       "      <td>18.97</td>\n",
       "      <td>0.0</td>\n",
       "      <td>2007-07-01</td>\n",
       "      <td>2.0</td>\n",
       "      <td>NaN</td>\n",
       "      <td>8.0</td>\n",
       "      <td>0.0</td>\n",
       "      <td>7301.0</td>\n",
       "      <td>0.533</td>\n",
       "      <td>12.0</td>\n",
       "      <td>12815.178320</td>\n",
       "      <td>12815.18</td>\n",
       "      <td>10000.00</td>\n",
       "      <td>2815.18</td>\n",
       "      <td>2014-08-01</td>\n",
       "      <td>380.63</td>\n",
       "      <td>NaN</td>\n",
       "      <td>2015-09-01</td>\n",
       "      <td>0</td>\n",
       "    </tr>\n",
       "    <tr>\n",
       "      <th>38479</th>\n",
       "      <td>1029847</td>\n",
       "      <td>1249126</td>\n",
       "      <td>3200.0</td>\n",
       "      <td>3200.0</td>\n",
       "      <td>3200.00000</td>\n",
       "      <td>36 months</td>\n",
       "      <td>13.49</td>\n",
       "      <td>108.58</td>\n",
       "      <td>7 years</td>\n",
       "      <td>RENT</td>\n",
       "      <td>38400.0</td>\n",
       "      <td>Source Verified</td>\n",
       "      <td>2011-11-01</td>\n",
       "      <td>Fully Paid</td>\n",
       "      <td>debt_consolidation</td>\n",
       "      <td>484xx</td>\n",
       "      <td>MI</td>\n",
       "      <td>12.56</td>\n",
       "      <td>0.0</td>\n",
       "      <td>1995-10-01</td>\n",
       "      <td>2.0</td>\n",
       "      <td>38.0</td>\n",
       "      <td>8.0</td>\n",
       "      <td>1.0</td>\n",
       "      <td>2503.0</td>\n",
       "      <td>0.626</td>\n",
       "      <td>18.0</td>\n",
       "      <td>3908.767275</td>\n",
       "      <td>3908.77</td>\n",
       "      <td>3200.00</td>\n",
       "      <td>708.77</td>\n",
       "      <td>2014-12-01</td>\n",
       "      <td>111.88</td>\n",
       "      <td>NaN</td>\n",
       "      <td>2014-11-01</td>\n",
       "      <td>0</td>\n",
       "    </tr>\n",
       "  </tbody>\n",
       "</table>\n",
       "<p>38480 rows × 36 columns</p>\n",
       "</div>"
      ],
      "text/plain": [
       "            id  member_id  loan_amount  funded_amount  \\\n",
       "0            2          2          0.0            0.0   \n",
       "1       545583     703644       2500.0         2500.0   \n",
       "2       532101     687836       5000.0         5000.0   \n",
       "3       877788    1092507       7000.0         7000.0   \n",
       "4       875406    1089981       2000.0         2000.0   \n",
       "...        ...        ...          ...            ...   \n",
       "38475   849205    1060907       3000.0         3000.0   \n",
       "38476   852914    1065048      10400.0        10400.0   \n",
       "38477   519553     671637      16000.0        10550.0   \n",
       "38478   825638    1034448      10000.0        10000.0   \n",
       "38479  1029847    1249126       3200.0         3200.0   \n",
       "\n",
       "       funded_amount_investors       term  interest_rate  installment  \\\n",
       "0                      0.00000  36 months           0.00         0.00   \n",
       "1                   2500.00000  36 months          13.98        85.42   \n",
       "2                   5000.00000  36 months          15.95       175.67   \n",
       "3                   7000.00000  36 months           9.91       225.58   \n",
       "4                   2000.00000  36 months           5.42        60.32   \n",
       "...                        ...        ...            ...          ...   \n",
       "38475               3000.00000  36 months          11.99        99.63   \n",
       "38476              10400.00000  36 months          13.49       352.88   \n",
       "38477              10531.35818  60 months          14.96       250.77   \n",
       "38478              10000.00000  36 months          16.89       355.99   \n",
       "38479               3200.00000  36 months          13.49       108.58   \n",
       "\n",
       "      employment_length home_ownership  annual_income verification_status  \\\n",
       "0              < 1 year           RENT            0.0        Not Verified   \n",
       "1               4 years           RENT        20004.0        Not Verified   \n",
       "2               4 years           RENT        59000.0        Not Verified   \n",
       "3             10+ years       MORTGAGE        53796.0        Not Verified   \n",
       "4             10+ years           RENT        30000.0        Not Verified   \n",
       "...                 ...            ...            ...                 ...   \n",
       "38475           3 years           RENT        74250.0            Verified   \n",
       "38476           9 years           RENT        62000.0     Source Verified   \n",
       "38477         10+ years       MORTGAGE        95088.0     Source Verified   \n",
       "38478            1 year           RENT        48720.0        Not Verified   \n",
       "38479           7 years           RENT        38400.0     Source Verified   \n",
       "\n",
       "       issue_date                                        loan_status  \\\n",
       "0      1999-12-01                                        Charged Off   \n",
       "1      2010-07-01  Does not meet the credit policy. Status:Fully ...   \n",
       "2      2010-06-01                                        Charged Off   \n",
       "3      2011-09-01                                         Fully Paid   \n",
       "4      2011-09-01                                         Fully Paid   \n",
       "...           ...                                                ...   \n",
       "38475  2011-08-01                                         Fully Paid   \n",
       "38476  2011-08-01                                         Fully Paid   \n",
       "38477  2010-05-01                                         Fully Paid   \n",
       "38478  2011-07-01                                         Fully Paid   \n",
       "38479  2011-11-01                                         Fully Paid   \n",
       "\n",
       "                  purpose zip_code address_state  debt_to_income_ratio  \\\n",
       "0          major_purchase    000xx            ZZ                  0.00   \n",
       "1                   other    487xx            MI                 19.86   \n",
       "2      debt_consolidation    115xx            NY                 19.57   \n",
       "3                   other    751xx            TX                 10.80   \n",
       "4      debt_consolidation    112xx            NY                  3.60   \n",
       "...                   ...      ...           ...                   ...   \n",
       "38475         credit_card    805xx            CO                 22.17   \n",
       "38476         credit_card    442xx            OH                 11.57   \n",
       "38477  debt_consolidation    073xx            NJ                 10.63   \n",
       "38478  debt_consolidation    061xx            CT                 18.97   \n",
       "38479  debt_consolidation    484xx            MI                 12.56   \n",
       "\n",
       "       no_delinquency_2yrs earliest_credit_line  inquiries_last_6mths  \\\n",
       "0                      0.0           2001-01-01                   0.0   \n",
       "1                      0.0           2005-08-01                   5.0   \n",
       "2                      0.0           1994-04-01                   1.0   \n",
       "3                      3.0           1998-03-01                   3.0   \n",
       "4                      0.0           1975-01-01                   0.0   \n",
       "...                    ...                  ...                   ...   \n",
       "38475                  0.0           2000-01-01                   2.0   \n",
       "38476                  0.0           1999-04-01                   1.0   \n",
       "38477                  0.0           1995-12-01                   1.0   \n",
       "38478                  0.0           2007-07-01                   2.0   \n",
       "38479                  0.0           1995-10-01                   2.0   \n",
       "\n",
       "       months_since_last_delinquency  no_open_accounts  public_records  \\\n",
       "0                                NaN               0.0             0.0   \n",
       "1                                NaN               7.0             0.0   \n",
       "2                               59.0               7.0             0.0   \n",
       "3                                3.0               7.0             0.0   \n",
       "4                               72.0               7.0             0.0   \n",
       "...                              ...               ...             ...   \n",
       "38475                            NaN              12.0             0.0   \n",
       "38476                            NaN              21.0             0.0   \n",
       "38477                            NaN               9.0             1.0   \n",
       "38478                            NaN               8.0             0.0   \n",
       "38479                           38.0               8.0             1.0   \n",
       "\n",
       "       revolving_balance revolving_utillization  no_total_account  \\\n",
       "0                    0.0                “0.00%”               1.0   \n",
       "1                  981.0                  0.213              10.0   \n",
       "2                18773.0                  0.999              15.0   \n",
       "3                 3269.0                  0.472              20.0   \n",
       "4                    0.0                      0              15.0   \n",
       "...                  ...                    ...               ...   \n",
       "38475            16550.0                  0.735              22.0   \n",
       "38476            16898.0                  0.397              33.0   \n",
       "38477            10386.0                  0.622              25.0   \n",
       "38478             7301.0                  0.533              12.0   \n",
       "38479             2503.0                  0.626              18.0   \n",
       "\n",
       "       total_payment  total_payment_investors  total_received_principal  \\\n",
       "0           0.000000                     0.00                      0.00   \n",
       "1        3075.291779                  3075.29                   2500.00   \n",
       "2        2948.760000                  2948.76                   1909.02   \n",
       "3        8082.391880                  8082.39                   7000.00   \n",
       "4        2161.663244                  2161.66                   2000.00   \n",
       "...              ...                      ...                       ...   \n",
       "38475    3586.619764                  3586.62                   3000.00   \n",
       "38476   12703.534030                 12703.53                  10400.00   \n",
       "38477   14202.267530                 14163.31                  10550.00   \n",
       "38478   12815.178320                 12815.18                  10000.00   \n",
       "38479    3908.767275                  3908.77                   3200.00   \n",
       "\n",
       "       total_received_interest last_payment_date  last_payment_amnt  \\\n",
       "0                         0.00        2007-01-01               0.00   \n",
       "1                       575.29        2013-07-01              90.85   \n",
       "2                       873.81        2011-11-01             175.67   \n",
       "3                      1082.39        2014-03-01            1550.27   \n",
       "4                       161.66        2014-02-01              53.12   \n",
       "...                        ...               ...                ...   \n",
       "38475                   586.62        2014-08-01             100.30   \n",
       "38476                  2303.53        2014-09-01             393.08   \n",
       "38477                  3652.27        2013-06-01            5439.96   \n",
       "38478                  2815.18        2014-08-01             380.63   \n",
       "38479                   708.77        2014-12-01             111.88   \n",
       "\n",
       "      next_payment_date last_credit_pull_date  repay_fail  \n",
       "0            2007-01-01            2007-01-01           1  \n",
       "1            2013-08-01            2016-06-01           0  \n",
       "2                   NaN            2012-03-01           1  \n",
       "3                   NaN            2014-03-01           0  \n",
       "4                   NaN            2016-06-01           0  \n",
       "...                 ...                   ...         ...  \n",
       "38475               NaN            2016-06-01           0  \n",
       "38476               NaN            2016-06-01           0  \n",
       "38477               NaN            2016-02-01           0  \n",
       "38478               NaN            2015-09-01           0  \n",
       "38479               NaN            2014-11-01           0  \n",
       "\n",
       "[38480 rows x 36 columns]"
      ]
     },
     "execution_count": 349,
     "metadata": {},
     "output_type": "execute_result"
    }
   ],
   "source": [
    "# drop unnamed column\n",
    "df = df.drop(df.columns[0], axis=1)\n",
    "df"
   ]
  },
  {
   "cell_type": "code",
   "execution_count": 350,
   "metadata": {},
   "outputs": [
    {
     "data": {
      "text/html": [
       "<div>\n",
       "<style scoped>\n",
       "    .dataframe tbody tr th:only-of-type {\n",
       "        vertical-align: middle;\n",
       "    }\n",
       "\n",
       "    .dataframe tbody tr th {\n",
       "        vertical-align: top;\n",
       "    }\n",
       "\n",
       "    .dataframe thead th {\n",
       "        text-align: right;\n",
       "    }\n",
       "</style>\n",
       "<table border=\"1\" class=\"dataframe\">\n",
       "  <thead>\n",
       "    <tr style=\"text-align: right;\">\n",
       "      <th></th>\n",
       "      <th>id</th>\n",
       "      <th>member_id</th>\n",
       "      <th>loan_amount</th>\n",
       "      <th>funded_amount</th>\n",
       "      <th>funded_amount_investors</th>\n",
       "      <th>term</th>\n",
       "      <th>interest_rate</th>\n",
       "      <th>installment</th>\n",
       "      <th>employment_length</th>\n",
       "      <th>home_ownership</th>\n",
       "      <th>annual_income</th>\n",
       "      <th>verification_status</th>\n",
       "      <th>issue_date</th>\n",
       "      <th>loan_status</th>\n",
       "      <th>purpose</th>\n",
       "      <th>zip_code</th>\n",
       "      <th>address_state</th>\n",
       "      <th>debt_to_income_ratio</th>\n",
       "      <th>no_delinquency_2yrs</th>\n",
       "      <th>earliest_credit_line</th>\n",
       "      <th>inquiries_last_6mths</th>\n",
       "      <th>months_since_last_delinquency</th>\n",
       "      <th>no_open_accounts</th>\n",
       "      <th>public_records</th>\n",
       "      <th>revolving_balance</th>\n",
       "      <th>revolving_utillization</th>\n",
       "      <th>no_total_account</th>\n",
       "      <th>total_payment</th>\n",
       "      <th>total_payment_investors</th>\n",
       "      <th>total_received_principal</th>\n",
       "      <th>total_received_interest</th>\n",
       "      <th>last_payment_date</th>\n",
       "      <th>last_payment_amnt</th>\n",
       "      <th>next_payment_date</th>\n",
       "      <th>last_credit_pull_date</th>\n",
       "      <th>repay_fail</th>\n",
       "    </tr>\n",
       "  </thead>\n",
       "  <tbody>\n",
       "    <tr>\n",
       "      <th>0</th>\n",
       "      <td>2</td>\n",
       "      <td>2</td>\n",
       "      <td>0.0</td>\n",
       "      <td>0.0</td>\n",
       "      <td>0.00000</td>\n",
       "      <td>36 months</td>\n",
       "      <td>0.00</td>\n",
       "      <td>0.00</td>\n",
       "      <td>&lt; 1 year</td>\n",
       "      <td>RENT</td>\n",
       "      <td>0.0</td>\n",
       "      <td>Not Verified</td>\n",
       "      <td>1999-12-01</td>\n",
       "      <td>Charged Off</td>\n",
       "      <td>major_purchase</td>\n",
       "      <td>000xx</td>\n",
       "      <td>ZZ</td>\n",
       "      <td>0.00</td>\n",
       "      <td>0.0</td>\n",
       "      <td>2001-01-01</td>\n",
       "      <td>0.0</td>\n",
       "      <td>NaN</td>\n",
       "      <td>0.0</td>\n",
       "      <td>0.0</td>\n",
       "      <td>0.0</td>\n",
       "      <td>“0.00%”</td>\n",
       "      <td>1.0</td>\n",
       "      <td>0.000000</td>\n",
       "      <td>0.00</td>\n",
       "      <td>0.00</td>\n",
       "      <td>0.00</td>\n",
       "      <td>2007-01-01</td>\n",
       "      <td>0.00</td>\n",
       "      <td>2007-01-01</td>\n",
       "      <td>2007-01-01</td>\n",
       "      <td>1</td>\n",
       "    </tr>\n",
       "    <tr>\n",
       "      <th>1</th>\n",
       "      <td>545583</td>\n",
       "      <td>703644</td>\n",
       "      <td>2500.0</td>\n",
       "      <td>2500.0</td>\n",
       "      <td>2500.00000</td>\n",
       "      <td>36 months</td>\n",
       "      <td>13.98</td>\n",
       "      <td>85.42</td>\n",
       "      <td>4 years</td>\n",
       "      <td>RENT</td>\n",
       "      <td>20004.0</td>\n",
       "      <td>Not Verified</td>\n",
       "      <td>2010-07-01</td>\n",
       "      <td>Does not meet the credit policy. Status:Fully ...</td>\n",
       "      <td>other</td>\n",
       "      <td>487xx</td>\n",
       "      <td>MI</td>\n",
       "      <td>19.86</td>\n",
       "      <td>0.0</td>\n",
       "      <td>2005-08-01</td>\n",
       "      <td>5.0</td>\n",
       "      <td>NaN</td>\n",
       "      <td>7.0</td>\n",
       "      <td>0.0</td>\n",
       "      <td>981.0</td>\n",
       "      <td>0.213</td>\n",
       "      <td>10.0</td>\n",
       "      <td>3075.291779</td>\n",
       "      <td>3075.29</td>\n",
       "      <td>2500.00</td>\n",
       "      <td>575.29</td>\n",
       "      <td>2013-07-01</td>\n",
       "      <td>90.85</td>\n",
       "      <td>2013-08-01</td>\n",
       "      <td>2016-06-01</td>\n",
       "      <td>0</td>\n",
       "    </tr>\n",
       "    <tr>\n",
       "      <th>2</th>\n",
       "      <td>532101</td>\n",
       "      <td>687836</td>\n",
       "      <td>5000.0</td>\n",
       "      <td>5000.0</td>\n",
       "      <td>5000.00000</td>\n",
       "      <td>36 months</td>\n",
       "      <td>15.95</td>\n",
       "      <td>175.67</td>\n",
       "      <td>4 years</td>\n",
       "      <td>RENT</td>\n",
       "      <td>59000.0</td>\n",
       "      <td>Not Verified</td>\n",
       "      <td>2010-06-01</td>\n",
       "      <td>Charged Off</td>\n",
       "      <td>debt_consolidation</td>\n",
       "      <td>115xx</td>\n",
       "      <td>NY</td>\n",
       "      <td>19.57</td>\n",
       "      <td>0.0</td>\n",
       "      <td>1994-04-01</td>\n",
       "      <td>1.0</td>\n",
       "      <td>59.0</td>\n",
       "      <td>7.0</td>\n",
       "      <td>0.0</td>\n",
       "      <td>18773.0</td>\n",
       "      <td>0.999</td>\n",
       "      <td>15.0</td>\n",
       "      <td>2948.760000</td>\n",
       "      <td>2948.76</td>\n",
       "      <td>1909.02</td>\n",
       "      <td>873.81</td>\n",
       "      <td>2011-11-01</td>\n",
       "      <td>175.67</td>\n",
       "      <td>NaN</td>\n",
       "      <td>2012-03-01</td>\n",
       "      <td>1</td>\n",
       "    </tr>\n",
       "    <tr>\n",
       "      <th>3</th>\n",
       "      <td>877788</td>\n",
       "      <td>1092507</td>\n",
       "      <td>7000.0</td>\n",
       "      <td>7000.0</td>\n",
       "      <td>7000.00000</td>\n",
       "      <td>36 months</td>\n",
       "      <td>9.91</td>\n",
       "      <td>225.58</td>\n",
       "      <td>10+ years</td>\n",
       "      <td>MORTGAGE</td>\n",
       "      <td>53796.0</td>\n",
       "      <td>Not Verified</td>\n",
       "      <td>2011-09-01</td>\n",
       "      <td>Fully Paid</td>\n",
       "      <td>other</td>\n",
       "      <td>751xx</td>\n",
       "      <td>TX</td>\n",
       "      <td>10.80</td>\n",
       "      <td>3.0</td>\n",
       "      <td>1998-03-01</td>\n",
       "      <td>3.0</td>\n",
       "      <td>3.0</td>\n",
       "      <td>7.0</td>\n",
       "      <td>0.0</td>\n",
       "      <td>3269.0</td>\n",
       "      <td>0.472</td>\n",
       "      <td>20.0</td>\n",
       "      <td>8082.391880</td>\n",
       "      <td>8082.39</td>\n",
       "      <td>7000.00</td>\n",
       "      <td>1082.39</td>\n",
       "      <td>2014-03-01</td>\n",
       "      <td>1550.27</td>\n",
       "      <td>NaN</td>\n",
       "      <td>2014-03-01</td>\n",
       "      <td>0</td>\n",
       "    </tr>\n",
       "    <tr>\n",
       "      <th>4</th>\n",
       "      <td>875406</td>\n",
       "      <td>1089981</td>\n",
       "      <td>2000.0</td>\n",
       "      <td>2000.0</td>\n",
       "      <td>2000.00000</td>\n",
       "      <td>36 months</td>\n",
       "      <td>5.42</td>\n",
       "      <td>60.32</td>\n",
       "      <td>10+ years</td>\n",
       "      <td>RENT</td>\n",
       "      <td>30000.0</td>\n",
       "      <td>Not Verified</td>\n",
       "      <td>2011-09-01</td>\n",
       "      <td>Fully Paid</td>\n",
       "      <td>debt_consolidation</td>\n",
       "      <td>112xx</td>\n",
       "      <td>NY</td>\n",
       "      <td>3.60</td>\n",
       "      <td>0.0</td>\n",
       "      <td>1975-01-01</td>\n",
       "      <td>0.0</td>\n",
       "      <td>72.0</td>\n",
       "      <td>7.0</td>\n",
       "      <td>0.0</td>\n",
       "      <td>0.0</td>\n",
       "      <td>0</td>\n",
       "      <td>15.0</td>\n",
       "      <td>2161.663244</td>\n",
       "      <td>2161.66</td>\n",
       "      <td>2000.00</td>\n",
       "      <td>161.66</td>\n",
       "      <td>2014-02-01</td>\n",
       "      <td>53.12</td>\n",
       "      <td>NaN</td>\n",
       "      <td>2016-06-01</td>\n",
       "      <td>0</td>\n",
       "    </tr>\n",
       "    <tr>\n",
       "      <th>...</th>\n",
       "      <td>...</td>\n",
       "      <td>...</td>\n",
       "      <td>...</td>\n",
       "      <td>...</td>\n",
       "      <td>...</td>\n",
       "      <td>...</td>\n",
       "      <td>...</td>\n",
       "      <td>...</td>\n",
       "      <td>...</td>\n",
       "      <td>...</td>\n",
       "      <td>...</td>\n",
       "      <td>...</td>\n",
       "      <td>...</td>\n",
       "      <td>...</td>\n",
       "      <td>...</td>\n",
       "      <td>...</td>\n",
       "      <td>...</td>\n",
       "      <td>...</td>\n",
       "      <td>...</td>\n",
       "      <td>...</td>\n",
       "      <td>...</td>\n",
       "      <td>...</td>\n",
       "      <td>...</td>\n",
       "      <td>...</td>\n",
       "      <td>...</td>\n",
       "      <td>...</td>\n",
       "      <td>...</td>\n",
       "      <td>...</td>\n",
       "      <td>...</td>\n",
       "      <td>...</td>\n",
       "      <td>...</td>\n",
       "      <td>...</td>\n",
       "      <td>...</td>\n",
       "      <td>...</td>\n",
       "      <td>...</td>\n",
       "      <td>...</td>\n",
       "    </tr>\n",
       "    <tr>\n",
       "      <th>38475</th>\n",
       "      <td>849205</td>\n",
       "      <td>1060907</td>\n",
       "      <td>3000.0</td>\n",
       "      <td>3000.0</td>\n",
       "      <td>3000.00000</td>\n",
       "      <td>36 months</td>\n",
       "      <td>11.99</td>\n",
       "      <td>99.63</td>\n",
       "      <td>3 years</td>\n",
       "      <td>RENT</td>\n",
       "      <td>74250.0</td>\n",
       "      <td>Verified</td>\n",
       "      <td>2011-08-01</td>\n",
       "      <td>Fully Paid</td>\n",
       "      <td>credit_card</td>\n",
       "      <td>805xx</td>\n",
       "      <td>CO</td>\n",
       "      <td>22.17</td>\n",
       "      <td>0.0</td>\n",
       "      <td>2000-01-01</td>\n",
       "      <td>2.0</td>\n",
       "      <td>NaN</td>\n",
       "      <td>12.0</td>\n",
       "      <td>0.0</td>\n",
       "      <td>16550.0</td>\n",
       "      <td>0.735</td>\n",
       "      <td>22.0</td>\n",
       "      <td>3586.619764</td>\n",
       "      <td>3586.62</td>\n",
       "      <td>3000.00</td>\n",
       "      <td>586.62</td>\n",
       "      <td>2014-08-01</td>\n",
       "      <td>100.30</td>\n",
       "      <td>NaN</td>\n",
       "      <td>2016-06-01</td>\n",
       "      <td>0</td>\n",
       "    </tr>\n",
       "    <tr>\n",
       "      <th>38476</th>\n",
       "      <td>852914</td>\n",
       "      <td>1065048</td>\n",
       "      <td>10400.0</td>\n",
       "      <td>10400.0</td>\n",
       "      <td>10400.00000</td>\n",
       "      <td>36 months</td>\n",
       "      <td>13.49</td>\n",
       "      <td>352.88</td>\n",
       "      <td>9 years</td>\n",
       "      <td>RENT</td>\n",
       "      <td>62000.0</td>\n",
       "      <td>Source Verified</td>\n",
       "      <td>2011-08-01</td>\n",
       "      <td>Fully Paid</td>\n",
       "      <td>credit_card</td>\n",
       "      <td>442xx</td>\n",
       "      <td>OH</td>\n",
       "      <td>11.57</td>\n",
       "      <td>0.0</td>\n",
       "      <td>1999-04-01</td>\n",
       "      <td>1.0</td>\n",
       "      <td>NaN</td>\n",
       "      <td>21.0</td>\n",
       "      <td>0.0</td>\n",
       "      <td>16898.0</td>\n",
       "      <td>0.397</td>\n",
       "      <td>33.0</td>\n",
       "      <td>12703.534030</td>\n",
       "      <td>12703.53</td>\n",
       "      <td>10400.00</td>\n",
       "      <td>2303.53</td>\n",
       "      <td>2014-09-01</td>\n",
       "      <td>393.08</td>\n",
       "      <td>NaN</td>\n",
       "      <td>2016-06-01</td>\n",
       "      <td>0</td>\n",
       "    </tr>\n",
       "    <tr>\n",
       "      <th>38477</th>\n",
       "      <td>519553</td>\n",
       "      <td>671637</td>\n",
       "      <td>16000.0</td>\n",
       "      <td>10550.0</td>\n",
       "      <td>10531.35818</td>\n",
       "      <td>60 months</td>\n",
       "      <td>14.96</td>\n",
       "      <td>250.77</td>\n",
       "      <td>10+ years</td>\n",
       "      <td>MORTGAGE</td>\n",
       "      <td>95088.0</td>\n",
       "      <td>Source Verified</td>\n",
       "      <td>2010-05-01</td>\n",
       "      <td>Fully Paid</td>\n",
       "      <td>debt_consolidation</td>\n",
       "      <td>073xx</td>\n",
       "      <td>NJ</td>\n",
       "      <td>10.63</td>\n",
       "      <td>0.0</td>\n",
       "      <td>1995-12-01</td>\n",
       "      <td>1.0</td>\n",
       "      <td>NaN</td>\n",
       "      <td>9.0</td>\n",
       "      <td>1.0</td>\n",
       "      <td>10386.0</td>\n",
       "      <td>0.622</td>\n",
       "      <td>25.0</td>\n",
       "      <td>14202.267530</td>\n",
       "      <td>14163.31</td>\n",
       "      <td>10550.00</td>\n",
       "      <td>3652.27</td>\n",
       "      <td>2013-06-01</td>\n",
       "      <td>5439.96</td>\n",
       "      <td>NaN</td>\n",
       "      <td>2016-02-01</td>\n",
       "      <td>0</td>\n",
       "    </tr>\n",
       "    <tr>\n",
       "      <th>38478</th>\n",
       "      <td>825638</td>\n",
       "      <td>1034448</td>\n",
       "      <td>10000.0</td>\n",
       "      <td>10000.0</td>\n",
       "      <td>10000.00000</td>\n",
       "      <td>36 months</td>\n",
       "      <td>16.89</td>\n",
       "      <td>355.99</td>\n",
       "      <td>1 year</td>\n",
       "      <td>RENT</td>\n",
       "      <td>48720.0</td>\n",
       "      <td>Not Verified</td>\n",
       "      <td>2011-07-01</td>\n",
       "      <td>Fully Paid</td>\n",
       "      <td>debt_consolidation</td>\n",
       "      <td>061xx</td>\n",
       "      <td>CT</td>\n",
       "      <td>18.97</td>\n",
       "      <td>0.0</td>\n",
       "      <td>2007-07-01</td>\n",
       "      <td>2.0</td>\n",
       "      <td>NaN</td>\n",
       "      <td>8.0</td>\n",
       "      <td>0.0</td>\n",
       "      <td>7301.0</td>\n",
       "      <td>0.533</td>\n",
       "      <td>12.0</td>\n",
       "      <td>12815.178320</td>\n",
       "      <td>12815.18</td>\n",
       "      <td>10000.00</td>\n",
       "      <td>2815.18</td>\n",
       "      <td>2014-08-01</td>\n",
       "      <td>380.63</td>\n",
       "      <td>NaN</td>\n",
       "      <td>2015-09-01</td>\n",
       "      <td>0</td>\n",
       "    </tr>\n",
       "    <tr>\n",
       "      <th>38479</th>\n",
       "      <td>1029847</td>\n",
       "      <td>1249126</td>\n",
       "      <td>3200.0</td>\n",
       "      <td>3200.0</td>\n",
       "      <td>3200.00000</td>\n",
       "      <td>36 months</td>\n",
       "      <td>13.49</td>\n",
       "      <td>108.58</td>\n",
       "      <td>7 years</td>\n",
       "      <td>RENT</td>\n",
       "      <td>38400.0</td>\n",
       "      <td>Source Verified</td>\n",
       "      <td>2011-11-01</td>\n",
       "      <td>Fully Paid</td>\n",
       "      <td>debt_consolidation</td>\n",
       "      <td>484xx</td>\n",
       "      <td>MI</td>\n",
       "      <td>12.56</td>\n",
       "      <td>0.0</td>\n",
       "      <td>1995-10-01</td>\n",
       "      <td>2.0</td>\n",
       "      <td>38.0</td>\n",
       "      <td>8.0</td>\n",
       "      <td>1.0</td>\n",
       "      <td>2503.0</td>\n",
       "      <td>0.626</td>\n",
       "      <td>18.0</td>\n",
       "      <td>3908.767275</td>\n",
       "      <td>3908.77</td>\n",
       "      <td>3200.00</td>\n",
       "      <td>708.77</td>\n",
       "      <td>2014-12-01</td>\n",
       "      <td>111.88</td>\n",
       "      <td>NaN</td>\n",
       "      <td>2014-11-01</td>\n",
       "      <td>0</td>\n",
       "    </tr>\n",
       "  </tbody>\n",
       "</table>\n",
       "<p>38480 rows × 36 columns</p>\n",
       "</div>"
      ],
      "text/plain": [
       "            id  member_id  loan_amount  funded_amount  \\\n",
       "0            2          2          0.0            0.0   \n",
       "1       545583     703644       2500.0         2500.0   \n",
       "2       532101     687836       5000.0         5000.0   \n",
       "3       877788    1092507       7000.0         7000.0   \n",
       "4       875406    1089981       2000.0         2000.0   \n",
       "...        ...        ...          ...            ...   \n",
       "38475   849205    1060907       3000.0         3000.0   \n",
       "38476   852914    1065048      10400.0        10400.0   \n",
       "38477   519553     671637      16000.0        10550.0   \n",
       "38478   825638    1034448      10000.0        10000.0   \n",
       "38479  1029847    1249126       3200.0         3200.0   \n",
       "\n",
       "       funded_amount_investors       term  interest_rate  installment  \\\n",
       "0                      0.00000  36 months           0.00         0.00   \n",
       "1                   2500.00000  36 months          13.98        85.42   \n",
       "2                   5000.00000  36 months          15.95       175.67   \n",
       "3                   7000.00000  36 months           9.91       225.58   \n",
       "4                   2000.00000  36 months           5.42        60.32   \n",
       "...                        ...        ...            ...          ...   \n",
       "38475               3000.00000  36 months          11.99        99.63   \n",
       "38476              10400.00000  36 months          13.49       352.88   \n",
       "38477              10531.35818  60 months          14.96       250.77   \n",
       "38478              10000.00000  36 months          16.89       355.99   \n",
       "38479               3200.00000  36 months          13.49       108.58   \n",
       "\n",
       "      employment_length home_ownership  annual_income verification_status  \\\n",
       "0              < 1 year           RENT            0.0        Not Verified   \n",
       "1               4 years           RENT        20004.0        Not Verified   \n",
       "2               4 years           RENT        59000.0        Not Verified   \n",
       "3             10+ years       MORTGAGE        53796.0        Not Verified   \n",
       "4             10+ years           RENT        30000.0        Not Verified   \n",
       "...                 ...            ...            ...                 ...   \n",
       "38475           3 years           RENT        74250.0            Verified   \n",
       "38476           9 years           RENT        62000.0     Source Verified   \n",
       "38477         10+ years       MORTGAGE        95088.0     Source Verified   \n",
       "38478            1 year           RENT        48720.0        Not Verified   \n",
       "38479           7 years           RENT        38400.0     Source Verified   \n",
       "\n",
       "       issue_date                                        loan_status  \\\n",
       "0      1999-12-01                                        Charged Off   \n",
       "1      2010-07-01  Does not meet the credit policy. Status:Fully ...   \n",
       "2      2010-06-01                                        Charged Off   \n",
       "3      2011-09-01                                         Fully Paid   \n",
       "4      2011-09-01                                         Fully Paid   \n",
       "...           ...                                                ...   \n",
       "38475  2011-08-01                                         Fully Paid   \n",
       "38476  2011-08-01                                         Fully Paid   \n",
       "38477  2010-05-01                                         Fully Paid   \n",
       "38478  2011-07-01                                         Fully Paid   \n",
       "38479  2011-11-01                                         Fully Paid   \n",
       "\n",
       "                  purpose zip_code address_state  debt_to_income_ratio  \\\n",
       "0          major_purchase    000xx            ZZ                  0.00   \n",
       "1                   other    487xx            MI                 19.86   \n",
       "2      debt_consolidation    115xx            NY                 19.57   \n",
       "3                   other    751xx            TX                 10.80   \n",
       "4      debt_consolidation    112xx            NY                  3.60   \n",
       "...                   ...      ...           ...                   ...   \n",
       "38475         credit_card    805xx            CO                 22.17   \n",
       "38476         credit_card    442xx            OH                 11.57   \n",
       "38477  debt_consolidation    073xx            NJ                 10.63   \n",
       "38478  debt_consolidation    061xx            CT                 18.97   \n",
       "38479  debt_consolidation    484xx            MI                 12.56   \n",
       "\n",
       "       no_delinquency_2yrs earliest_credit_line  inquiries_last_6mths  \\\n",
       "0                      0.0           2001-01-01                   0.0   \n",
       "1                      0.0           2005-08-01                   5.0   \n",
       "2                      0.0           1994-04-01                   1.0   \n",
       "3                      3.0           1998-03-01                   3.0   \n",
       "4                      0.0           1975-01-01                   0.0   \n",
       "...                    ...                  ...                   ...   \n",
       "38475                  0.0           2000-01-01                   2.0   \n",
       "38476                  0.0           1999-04-01                   1.0   \n",
       "38477                  0.0           1995-12-01                   1.0   \n",
       "38478                  0.0           2007-07-01                   2.0   \n",
       "38479                  0.0           1995-10-01                   2.0   \n",
       "\n",
       "       months_since_last_delinquency  no_open_accounts  public_records  \\\n",
       "0                                NaN               0.0             0.0   \n",
       "1                                NaN               7.0             0.0   \n",
       "2                               59.0               7.0             0.0   \n",
       "3                                3.0               7.0             0.0   \n",
       "4                               72.0               7.0             0.0   \n",
       "...                              ...               ...             ...   \n",
       "38475                            NaN              12.0             0.0   \n",
       "38476                            NaN              21.0             0.0   \n",
       "38477                            NaN               9.0             1.0   \n",
       "38478                            NaN               8.0             0.0   \n",
       "38479                           38.0               8.0             1.0   \n",
       "\n",
       "       revolving_balance revolving_utillization  no_total_account  \\\n",
       "0                    0.0                “0.00%”               1.0   \n",
       "1                  981.0                  0.213              10.0   \n",
       "2                18773.0                  0.999              15.0   \n",
       "3                 3269.0                  0.472              20.0   \n",
       "4                    0.0                      0              15.0   \n",
       "...                  ...                    ...               ...   \n",
       "38475            16550.0                  0.735              22.0   \n",
       "38476            16898.0                  0.397              33.0   \n",
       "38477            10386.0                  0.622              25.0   \n",
       "38478             7301.0                  0.533              12.0   \n",
       "38479             2503.0                  0.626              18.0   \n",
       "\n",
       "       total_payment  total_payment_investors  total_received_principal  \\\n",
       "0           0.000000                     0.00                      0.00   \n",
       "1        3075.291779                  3075.29                   2500.00   \n",
       "2        2948.760000                  2948.76                   1909.02   \n",
       "3        8082.391880                  8082.39                   7000.00   \n",
       "4        2161.663244                  2161.66                   2000.00   \n",
       "...              ...                      ...                       ...   \n",
       "38475    3586.619764                  3586.62                   3000.00   \n",
       "38476   12703.534030                 12703.53                  10400.00   \n",
       "38477   14202.267530                 14163.31                  10550.00   \n",
       "38478   12815.178320                 12815.18                  10000.00   \n",
       "38479    3908.767275                  3908.77                   3200.00   \n",
       "\n",
       "       total_received_interest last_payment_date  last_payment_amnt  \\\n",
       "0                         0.00        2007-01-01               0.00   \n",
       "1                       575.29        2013-07-01              90.85   \n",
       "2                       873.81        2011-11-01             175.67   \n",
       "3                      1082.39        2014-03-01            1550.27   \n",
       "4                       161.66        2014-02-01              53.12   \n",
       "...                        ...               ...                ...   \n",
       "38475                   586.62        2014-08-01             100.30   \n",
       "38476                  2303.53        2014-09-01             393.08   \n",
       "38477                  3652.27        2013-06-01            5439.96   \n",
       "38478                  2815.18        2014-08-01             380.63   \n",
       "38479                   708.77        2014-12-01             111.88   \n",
       "\n",
       "      next_payment_date last_credit_pull_date  repay_fail  \n",
       "0            2007-01-01            2007-01-01           1  \n",
       "1            2013-08-01            2016-06-01           0  \n",
       "2                   NaN            2012-03-01           1  \n",
       "3                   NaN            2014-03-01           0  \n",
       "4                   NaN            2016-06-01           0  \n",
       "...                 ...                   ...         ...  \n",
       "38475               NaN            2016-06-01           0  \n",
       "38476               NaN            2016-06-01           0  \n",
       "38477               NaN            2016-02-01           0  \n",
       "38478               NaN            2015-09-01           0  \n",
       "38479               NaN            2014-11-01           0  \n",
       "\n",
       "[38480 rows x 36 columns]"
      ]
     },
     "execution_count": 350,
     "metadata": {},
     "output_type": "execute_result"
    }
   ],
   "source": [
    "# copy to new df\n",
    "loan_df = df.copy()\n",
    "loan_df"
   ]
  },
  {
   "cell_type": "code",
   "execution_count": 351,
   "metadata": {},
   "outputs": [
    {
     "name": "stdout",
     "output_type": "stream",
     "text": [
      "<class 'pandas.core.frame.DataFrame'>\n",
      "RangeIndex: 38480 entries, 0 to 38479\n",
      "Data columns (total 36 columns):\n",
      " #   Column                         Non-Null Count  Dtype  \n",
      "---  ------                         --------------  -----  \n",
      " 0   id                             38480 non-null  int64  \n",
      " 1   member_id                      38480 non-null  int64  \n",
      " 2   loan_amount                    38479 non-null  float64\n",
      " 3   funded_amount                  38479 non-null  float64\n",
      " 4   funded_amount_investors        38479 non-null  float64\n",
      " 5   term                           38480 non-null  object \n",
      " 6   interest_rate                  38480 non-null  float64\n",
      " 7   installment                    38479 non-null  float64\n",
      " 8   employment_length              37487 non-null  object \n",
      " 9   home_ownership                 38480 non-null  object \n",
      " 10  annual_income                  38478 non-null  float64\n",
      " 11  verification_status            38480 non-null  object \n",
      " 12  issue_date                     38480 non-null  object \n",
      " 13  loan_status                    38480 non-null  object \n",
      " 14  purpose                        38480 non-null  object \n",
      " 15  zip_code                       38480 non-null  object \n",
      " 16  address_state                  38480 non-null  object \n",
      " 17  debt_to_income_ratio           38480 non-null  float64\n",
      " 18  no_delinquency_2yrs            38479 non-null  float64\n",
      " 19  earliest_credit_line           38480 non-null  object \n",
      " 20  inquiries_last_6mths           38479 non-null  float64\n",
      " 21  months_since_last_delinquency  14117 non-null  float64\n",
      " 22  no_open_accounts               38479 non-null  float64\n",
      " 23  public_records                 38479 non-null  float64\n",
      " 24  revolving_balance              38476 non-null  float64\n",
      " 25  revolving_utillization         38421 non-null  object \n",
      " 26  no_total_account               38479 non-null  float64\n",
      " 27  total_payment                  38479 non-null  float64\n",
      " 28  total_payment_investors        38479 non-null  float64\n",
      " 29  total_received_principal       38479 non-null  float64\n",
      " 30  total_received_interest        38479 non-null  float64\n",
      " 31  last_payment_date              38409 non-null  object \n",
      " 32  last_payment_amnt              38479 non-null  float64\n",
      " 33  next_payment_date              3383 non-null   object \n",
      " 34  last_credit_pull_date          38477 non-null  object \n",
      " 35  repay_fail                     38480 non-null  int64  \n",
      "dtypes: float64(19), int64(3), object(14)\n",
      "memory usage: 10.6+ MB\n"
     ]
    }
   ],
   "source": [
    "loan_df.info()"
   ]
  },
  {
   "cell_type": "code",
   "execution_count": 352,
   "metadata": {},
   "outputs": [
    {
     "data": {
      "text/plain": [
       "array([False, False, False, False, False, False, False, False, False,\n",
       "       False, False, False, False, False, False, False, False, False,\n",
       "       False, False, False, False, False, False, False, False, False,\n",
       "       False, False, False, False, False, False, False, False, False])"
      ]
     },
     "execution_count": 352,
     "metadata": {},
     "output_type": "execute_result"
    }
   ],
   "source": [
    "# check if there's any duplicated columns\n",
    "loan_df.columns.duplicated()"
   ]
  },
  {
   "cell_type": "markdown",
   "metadata": {},
   "source": [
    "Check the data format of every column"
   ]
  },
  {
   "cell_type": "code",
   "execution_count": 353,
   "metadata": {},
   "outputs": [
    {
     "data": {
      "text/plain": [
       "Index(['id', 'member_id', 'loan_amount', 'funded_amount',\n",
       "       'funded_amount_investors', 'term', 'interest_rate', 'installment',\n",
       "       'employment_length', 'home_ownership', 'annual_income',\n",
       "       'verification_status', 'issue_date', 'loan_status', 'purpose',\n",
       "       'zip_code', 'address_state', 'debt_to_income_ratio',\n",
       "       'no_delinquency_2yrs', 'earliest_credit_line', 'inquiries_last_6mths',\n",
       "       'months_since_last_delinquency', 'no_open_accounts', 'public_records',\n",
       "       'revolving_balance', 'revolving_utillization', 'no_total_account',\n",
       "       'total_payment', 'total_payment_investors', 'total_received_principal',\n",
       "       'total_received_interest', 'last_payment_date', 'last_payment_amnt',\n",
       "       'next_payment_date', 'last_credit_pull_date', 'repay_fail'],\n",
       "      dtype='object')"
      ]
     },
     "execution_count": 353,
     "metadata": {},
     "output_type": "execute_result"
    }
   ],
   "source": [
    "loan_df.columns"
   ]
  },
  {
   "cell_type": "markdown",
   "metadata": {},
   "source": [
    "Column 'loan_amount'"
   ]
  },
  {
   "cell_type": "code",
   "execution_count": 354,
   "metadata": {},
   "outputs": [
    {
     "data": {
      "text/plain": [
       "dtype('float64')"
      ]
     },
     "execution_count": 354,
     "metadata": {},
     "output_type": "execute_result"
    }
   ],
   "source": [
    "loan_df['loan_amount'].dtype"
   ]
  },
  {
   "cell_type": "code",
   "execution_count": 355,
   "metadata": {},
   "outputs": [
    {
     "data": {
      "text/plain": [
       "loan_amount\n",
       "10000.0    2727\n",
       "12000.0    2235\n",
       "5000.0     2027\n",
       "6000.0     1842\n",
       "15000.0    1823\n",
       "           ... \n",
       "20900.0       1\n",
       "12425.0       1\n",
       "29850.0       1\n",
       "11175.0       1\n",
       "29800.0       1\n",
       "Name: count, Length: 881, dtype: int64"
      ]
     },
     "execution_count": 355,
     "metadata": {},
     "output_type": "execute_result"
    }
   ],
   "source": [
    "loan_df['loan_amount'].value_counts()"
   ]
  },
  {
   "cell_type": "markdown",
   "metadata": {},
   "source": [
    "Column 'funded_amount'"
   ]
  },
  {
   "cell_type": "code",
   "execution_count": 356,
   "metadata": {},
   "outputs": [
    {
     "data": {
      "text/plain": [
       "dtype('float64')"
      ]
     },
     "execution_count": 356,
     "metadata": {},
     "output_type": "execute_result"
    }
   ],
   "source": [
    "loan_df['funded_amount'].dtype"
   ]
  },
  {
   "cell_type": "code",
   "execution_count": 357,
   "metadata": {},
   "outputs": [
    {
     "data": {
      "text/plain": [
       "loan_amount\n",
       "10000.0    2727\n",
       "12000.0    2235\n",
       "5000.0     2027\n",
       "6000.0     1842\n",
       "15000.0    1823\n",
       "           ... \n",
       "20900.0       1\n",
       "12425.0       1\n",
       "29850.0       1\n",
       "11175.0       1\n",
       "29800.0       1\n",
       "Name: count, Length: 881, dtype: int64"
      ]
     },
     "execution_count": 357,
     "metadata": {},
     "output_type": "execute_result"
    }
   ],
   "source": [
    "loan_df['loan_amount'].value_counts()"
   ]
  },
  {
   "cell_type": "markdown",
   "metadata": {},
   "source": [
    "Column 'funded_amount_investors'"
   ]
  },
  {
   "cell_type": "code",
   "execution_count": 358,
   "metadata": {},
   "outputs": [
    {
     "data": {
      "text/plain": [
       "dtype('float64')"
      ]
     },
     "execution_count": 358,
     "metadata": {},
     "output_type": "execute_result"
    }
   ],
   "source": [
    "loan_df['funded_amount_investors'].dtype"
   ]
  },
  {
   "cell_type": "code",
   "execution_count": 359,
   "metadata": {},
   "outputs": [
    {
     "data": {
      "text/plain": [
       "funded_amount_investors\n",
       "5000.00000     1232\n",
       "10000.00000    1174\n",
       "6000.00000     1116\n",
       "12000.00000     980\n",
       "8000.00000      848\n",
       "               ... \n",
       "20825.07315       1\n",
       "24655.75573       1\n",
       "14899.43381       1\n",
       "10609.61596       1\n",
       "14789.50176       1\n",
       "Name: count, Length: 8473, dtype: int64"
      ]
     },
     "execution_count": 359,
     "metadata": {},
     "output_type": "execute_result"
    }
   ],
   "source": [
    "loan_df['funded_amount_investors'].value_counts()"
   ]
  },
  {
   "cell_type": "markdown",
   "metadata": {},
   "source": [
    "Column 'term'"
   ]
  },
  {
   "cell_type": "code",
   "execution_count": 360,
   "metadata": {},
   "outputs": [
    {
     "data": {
      "text/plain": [
       "dtype('O')"
      ]
     },
     "execution_count": 360,
     "metadata": {},
     "output_type": "execute_result"
    }
   ],
   "source": [
    "loan_df['term'].dtype"
   ]
  },
  {
   "cell_type": "code",
   "execution_count": 361,
   "metadata": {},
   "outputs": [
    {
     "data": {
      "text/plain": [
       "term\n",
       "36 months    28593\n",
       "60 months     9887\n",
       "Name: count, dtype: int64"
      ]
     },
     "execution_count": 361,
     "metadata": {},
     "output_type": "execute_result"
    }
   ],
   "source": [
    "loan_df['term'].value_counts()"
   ]
  },
  {
   "cell_type": "markdown",
   "metadata": {},
   "source": [
    "Column 'interest_rate'"
   ]
  },
  {
   "cell_type": "code",
   "execution_count": 362,
   "metadata": {},
   "outputs": [
    {
     "data": {
      "text/plain": [
       "dtype('float64')"
      ]
     },
     "execution_count": 362,
     "metadata": {},
     "output_type": "execute_result"
    }
   ],
   "source": [
    "loan_df['interest_rate'].dtype"
   ]
  },
  {
   "cell_type": "code",
   "execution_count": 363,
   "metadata": {},
   "outputs": [
    {
     "data": {
      "text/plain": [
       "interest_rate\n",
       "10.99    861\n",
       "11.49    759\n",
       "13.49    752\n",
       "7.51     704\n",
       "7.88     675\n",
       "        ... \n",
       "16.83      1\n",
       "17.91      1\n",
       "13.84      1\n",
       "17.44      1\n",
       "17.78      1\n",
       "Name: count, Length: 392, dtype: int64"
      ]
     },
     "execution_count": 363,
     "metadata": {},
     "output_type": "execute_result"
    }
   ],
   "source": [
    "loan_df['interest_rate'].value_counts()"
   ]
  },
  {
   "cell_type": "markdown",
   "metadata": {},
   "source": [
    "Column 'installment'"
   ]
  },
  {
   "cell_type": "code",
   "execution_count": 364,
   "metadata": {},
   "outputs": [
    {
     "data": {
      "text/plain": [
       "dtype('float64')"
      ]
     },
     "execution_count": 364,
     "metadata": {},
     "output_type": "execute_result"
    }
   ],
   "source": [
    "loan_df['installment'].dtype"
   ]
  },
  {
   "cell_type": "code",
   "execution_count": 365,
   "metadata": {},
   "outputs": [
    {
     "data": {
      "text/plain": [
       "installment\n",
       "311.11    65\n",
       "180.96    55\n",
       "311.02    47\n",
       "368.45    43\n",
       "150.80    42\n",
       "          ..\n",
       "311.91     1\n",
       "849.94     1\n",
       "326.29     1\n",
       "278.60     1\n",
       "577.05     1\n",
       "Name: count, Length: 15475, dtype: int64"
      ]
     },
     "execution_count": 365,
     "metadata": {},
     "output_type": "execute_result"
    }
   ],
   "source": [
    "loan_df['installment'].value_counts()"
   ]
  },
  {
   "cell_type": "markdown",
   "metadata": {},
   "source": [
    "Column 'employment_length'"
   ]
  },
  {
   "cell_type": "code",
   "execution_count": 366,
   "metadata": {},
   "outputs": [
    {
     "data": {
      "text/plain": [
       "dtype('O')"
      ]
     },
     "execution_count": 366,
     "metadata": {},
     "output_type": "execute_result"
    }
   ],
   "source": [
    "loan_df['employment_length'].dtype"
   ]
  },
  {
   "cell_type": "code",
   "execution_count": 367,
   "metadata": {},
   "outputs": [
    {
     "data": {
      "text/plain": [
       "employment_length\n",
       "10+ years    8465\n",
       "< 1 year     4565\n",
       "2 years      4292\n",
       "3 years      3939\n",
       "4 years      3314\n",
       "1 year       3254\n",
       "5 years      3171\n",
       "6 years      2144\n",
       "7 years      1702\n",
       "8 years      1445\n",
       "9 years      1196\n",
       "Name: count, dtype: int64"
      ]
     },
     "execution_count": 367,
     "metadata": {},
     "output_type": "execute_result"
    }
   ],
   "source": [
    "loan_df['employment_length'].value_counts()"
   ]
  },
  {
   "cell_type": "markdown",
   "metadata": {},
   "source": [
    "Column 'home_ownership'"
   ]
  },
  {
   "cell_type": "code",
   "execution_count": 368,
   "metadata": {},
   "outputs": [
    {
     "data": {
      "text/plain": [
       "dtype('O')"
      ]
     },
     "execution_count": 368,
     "metadata": {},
     "output_type": "execute_result"
    }
   ],
   "source": [
    "loan_df['home_ownership'].dtype"
   ]
  },
  {
   "cell_type": "code",
   "execution_count": 369,
   "metadata": {},
   "outputs": [
    {
     "data": {
      "text/plain": [
       "home_ownership\n",
       "RENT        18253\n",
       "MORTGAGE    17140\n",
       "OWN          2958\n",
       "OTHER         125\n",
       "NONE            4\n",
       "Name: count, dtype: int64"
      ]
     },
     "execution_count": 369,
     "metadata": {},
     "output_type": "execute_result"
    }
   ],
   "source": [
    "loan_df['home_ownership'].value_counts()"
   ]
  },
  {
   "cell_type": "markdown",
   "metadata": {},
   "source": [
    "Column 'annual_income'"
   ]
  },
  {
   "cell_type": "code",
   "execution_count": 370,
   "metadata": {},
   "outputs": [
    {
     "data": {
      "text/plain": [
       "dtype('float64')"
      ]
     },
     "execution_count": 370,
     "metadata": {},
     "output_type": "execute_result"
    }
   ],
   "source": [
    "loan_df['annual_income'].dtype"
   ]
  },
  {
   "cell_type": "code",
   "execution_count": 371,
   "metadata": {},
   "outputs": [
    {
     "data": {
      "text/plain": [
       "annual_income\n",
       "60000.00    1440\n",
       "50000.00    1018\n",
       "40000.00     857\n",
       "45000.00     830\n",
       "30000.00     810\n",
       "            ... \n",
       "47839.92       1\n",
       "90750.00       1\n",
       "35292.00       1\n",
       "13296.00       1\n",
       "78420.00       1\n",
       "Name: count, Length: 5191, dtype: int64"
      ]
     },
     "execution_count": 371,
     "metadata": {},
     "output_type": "execute_result"
    }
   ],
   "source": [
    "loan_df['annual_income'].value_counts()"
   ]
  },
  {
   "cell_type": "markdown",
   "metadata": {},
   "source": [
    "Column 'verification_status'"
   ]
  },
  {
   "cell_type": "code",
   "execution_count": 372,
   "metadata": {},
   "outputs": [
    {
     "data": {
      "text/plain": [
       "dtype('O')"
      ]
     },
     "execution_count": 372,
     "metadata": {},
     "output_type": "execute_result"
    }
   ],
   "source": [
    "loan_df['verification_status'].dtype"
   ]
  },
  {
   "cell_type": "code",
   "execution_count": 373,
   "metadata": {},
   "outputs": [
    {
     "data": {
      "text/plain": [
       "verification_status\n",
       "Not Verified       16962\n",
       "Verified           12170\n",
       "Source Verified     9348\n",
       "Name: count, dtype: int64"
      ]
     },
     "execution_count": 373,
     "metadata": {},
     "output_type": "execute_result"
    }
   ],
   "source": [
    "loan_df['verification_status'].value_counts()"
   ]
  },
  {
   "cell_type": "markdown",
   "metadata": {},
   "source": [
    "Column 'issue_date'"
   ]
  },
  {
   "cell_type": "code",
   "execution_count": 374,
   "metadata": {},
   "outputs": [
    {
     "data": {
      "text/plain": [
       "dtype('O')"
      ]
     },
     "execution_count": 374,
     "metadata": {},
     "output_type": "execute_result"
    }
   ],
   "source": [
    "loan_df['issue_date'].dtype"
   ]
  },
  {
   "cell_type": "code",
   "execution_count": 375,
   "metadata": {},
   "outputs": [
    {
     "data": {
      "text/plain": [
       "issue_date\n",
       "2011-11-01    2068\n",
       "2011-12-01    2056\n",
       "2011-10-01    1922\n",
       "2011-09-01    1852\n",
       "2011-08-01    1745\n",
       "2011-07-01    1672\n",
       "2011-06-01    1644\n",
       "2011-05-01    1544\n",
       "2011-04-01    1405\n",
       "2011-03-01    1300\n",
       "2011-01-01    1255\n",
       "2010-12-01    1208\n",
       "2011-02-01    1184\n",
       "2010-10-01    1120\n",
       "2010-07-01    1099\n",
       "2010-11-01    1097\n",
       "2010-09-01    1069\n",
       "2010-08-01    1069\n",
       "2010-06-01     993\n",
       "2010-05-01     896\n",
       "2010-04-01     832\n",
       "2010-03-01     748\n",
       "2010-02-01     620\n",
       "2009-11-01     601\n",
       "2010-01-01     595\n",
       "2009-12-01     592\n",
       "2009-10-01     551\n",
       "2009-09-01     460\n",
       "2009-08-01     400\n",
       "2009-07-01     385\n",
       "2009-06-01     374\n",
       "2008-03-01     369\n",
       "2009-05-01     328\n",
       "2009-04-01     303\n",
       "2009-03-01     289\n",
       "2008-02-01     284\n",
       "2008-01-01     276\n",
       "2009-02-01     269\n",
       "2009-01-01     252\n",
       "2008-04-01     233\n",
       "2008-12-01     228\n",
       "2008-11-01     185\n",
       "2007-12-01     156\n",
       "2008-07-01     127\n",
       "2008-06-01     112\n",
       "2008-10-01     111\n",
       "2008-05-01     102\n",
       "2007-11-01     101\n",
       "2007-10-01     100\n",
       "2008-08-01      86\n",
       "2007-08-01      61\n",
       "2008-09-01      54\n",
       "2007-07-01      53\n",
       "2007-09-01      41\n",
       "2007-06-01       2\n",
       "1999-12-01       1\n",
       "2007-01-01       1\n",
       "Name: count, dtype: int64"
      ]
     },
     "execution_count": 375,
     "metadata": {},
     "output_type": "execute_result"
    }
   ],
   "source": [
    "loan_df['issue_date'].value_counts()"
   ]
  },
  {
   "cell_type": "markdown",
   "metadata": {},
   "source": [
    "Column 'loan_status'"
   ]
  },
  {
   "cell_type": "code",
   "execution_count": 376,
   "metadata": {},
   "outputs": [
    {
     "data": {
      "text/plain": [
       "dtype('O')"
      ]
     },
     "execution_count": 376,
     "metadata": {},
     "output_type": "execute_result"
    }
   ],
   "source": [
    "loan_df['loan_status'].dtype"
   ]
  },
  {
   "cell_type": "code",
   "execution_count": 377,
   "metadata": {},
   "outputs": [
    {
     "data": {
      "text/plain": [
       "loan_status\n",
       "Fully Paid                                             29987\n",
       "Charged Off                                             5111\n",
       "Does not meet the credit policy. Status:Fully Paid      1782\n",
       "Current                                                  867\n",
       "Does not meet the credit policy. Status:Charged Off      689\n",
       "Late (31-120 days)                                        20\n",
       "In Grace Period                                           15\n",
       "Late (16-30 days)                                          7\n",
       "Default                                                    2\n",
       "Name: count, dtype: int64"
      ]
     },
     "execution_count": 377,
     "metadata": {},
     "output_type": "execute_result"
    }
   ],
   "source": [
    "loan_df['loan_status'].value_counts()"
   ]
  },
  {
   "cell_type": "markdown",
   "metadata": {},
   "source": [
    "Column 'purpose'"
   ]
  },
  {
   "cell_type": "code",
   "execution_count": 378,
   "metadata": {},
   "outputs": [
    {
     "data": {
      "text/plain": [
       "dtype('O')"
      ]
     },
     "execution_count": 378,
     "metadata": {},
     "output_type": "execute_result"
    }
   ],
   "source": [
    "loan_df['purpose'].dtype"
   ]
  },
  {
   "cell_type": "code",
   "execution_count": 379,
   "metadata": {},
   "outputs": [
    {
     "data": {
      "text/plain": [
       "purpose\n",
       "debt_consolidation    17917\n",
       "credit_card            4974\n",
       "other                  3950\n",
       "home_improvement       2901\n",
       "major_purchase         2079\n",
       "small_business         1808\n",
       "car                    1481\n",
       "wedding                 909\n",
       "medical                 675\n",
       "moving                  562\n",
       "house                   387\n",
       "educational             386\n",
       "vacation                360\n",
       "renewable_energy         91\n",
       "Name: count, dtype: int64"
      ]
     },
     "execution_count": 379,
     "metadata": {},
     "output_type": "execute_result"
    }
   ],
   "source": [
    "loan_df['purpose'].value_counts()"
   ]
  },
  {
   "cell_type": "markdown",
   "metadata": {},
   "source": [
    "Column 'zip_code'"
   ]
  },
  {
   "cell_type": "code",
   "execution_count": 380,
   "metadata": {},
   "outputs": [
    {
     "data": {
      "text/plain": [
       "dtype('O')"
      ]
     },
     "execution_count": 380,
     "metadata": {},
     "output_type": "execute_result"
    }
   ],
   "source": [
    "loan_df['zip_code'].dtype"
   ]
  },
  {
   "cell_type": "code",
   "execution_count": 381,
   "metadata": {},
   "outputs": [
    {
     "data": {
      "text/plain": [
       "zip_code\n",
       "100xx    573\n",
       "945xx    502\n",
       "606xx    499\n",
       "112xx    492\n",
       "070xx    447\n",
       "        ... \n",
       "162xx      1\n",
       "375xx      1\n",
       "408xx      1\n",
       "386xx      1\n",
       "044xx      1\n",
       "Name: count, Length: 834, dtype: int64"
      ]
     },
     "execution_count": 381,
     "metadata": {},
     "output_type": "execute_result"
    }
   ],
   "source": [
    "loan_df['zip_code'].value_counts()"
   ]
  },
  {
   "cell_type": "markdown",
   "metadata": {},
   "source": [
    "Column 'address_state'"
   ]
  },
  {
   "cell_type": "code",
   "execution_count": 382,
   "metadata": {},
   "outputs": [
    {
     "data": {
      "text/plain": [
       "dtype('O')"
      ]
     },
     "execution_count": 382,
     "metadata": {},
     "output_type": "execute_result"
    }
   ],
   "source": [
    "loan_df['address_state'].dtype"
   ]
  },
  {
   "cell_type": "code",
   "execution_count": 383,
   "metadata": {},
   "outputs": [
    {
     "data": {
      "text/plain": [
       "address_state\n",
       "CA    6754\n",
       "NY    3702\n",
       "FL    2803\n",
       "TX    2633\n",
       "NJ    1795\n",
       "IL    1523\n",
       "PA    1491\n",
       "GA    1371\n",
       "VA    1343\n",
       "MA    1285\n",
       "OH    1209\n",
       "MD    1010\n",
       "AZ     856\n",
       "WA     798\n",
       "CO     771\n",
       "NC     747\n",
       "CT     722\n",
       "MI     708\n",
       "MO     677\n",
       "MN     597\n",
       "NV     485\n",
       "WI     473\n",
       "AL     439\n",
       "SC     438\n",
       "OR     419\n",
       "LA     415\n",
       "KY     313\n",
       "OK     284\n",
       "KS     271\n",
       "UT     254\n",
       "AR     238\n",
       "DC     196\n",
       "RI     186\n",
       "NM     186\n",
       "NH     170\n",
       "HI     168\n",
       "WV     166\n",
       "DE     124\n",
       "MT      88\n",
       "WY      78\n",
       "AK      77\n",
       "SD      57\n",
       "VT      52\n",
       "TN      30\n",
       "MS      24\n",
       "IN      19\n",
       "IA      12\n",
       "NE      10\n",
       "ID       8\n",
       "ME       3\n",
       "ZZ       1\n",
       "AA       1\n",
       "Name: count, dtype: int64"
      ]
     },
     "execution_count": 383,
     "metadata": {},
     "output_type": "execute_result"
    }
   ],
   "source": [
    "loan_df['address_state'].value_counts()"
   ]
  },
  {
   "cell_type": "markdown",
   "metadata": {},
   "source": [
    "Column 'debt_to_income_ratio'"
   ]
  },
  {
   "cell_type": "code",
   "execution_count": 384,
   "metadata": {},
   "outputs": [
    {
     "data": {
      "text/plain": [
       "dtype('float64')"
      ]
     },
     "execution_count": 384,
     "metadata": {},
     "output_type": "execute_result"
    }
   ],
   "source": [
    "loan_df['debt_to_income_ratio'].dtype"
   ]
  },
  {
   "cell_type": "code",
   "execution_count": 385,
   "metadata": {},
   "outputs": [
    {
     "data": {
      "text/plain": [
       "debt_to_income_ratio\n",
       "0.00     191\n",
       "12.00     44\n",
       "18.00     42\n",
       "19.20     39\n",
       "16.80     39\n",
       "        ... \n",
       "26.99      1\n",
       "29.85      1\n",
       "27.39      1\n",
       "29.56      1\n",
       "28.12      1\n",
       "Name: count, Length: 2878, dtype: int64"
      ]
     },
     "execution_count": 385,
     "metadata": {},
     "output_type": "execute_result"
    }
   ],
   "source": [
    "loan_df['debt_to_income_ratio'].value_counts()"
   ]
  },
  {
   "cell_type": "markdown",
   "metadata": {},
   "source": [
    "Column 'no_delinquency_2yrs'"
   ]
  },
  {
   "cell_type": "code",
   "execution_count": 386,
   "metadata": {},
   "outputs": [
    {
     "data": {
      "text/plain": [
       "dtype('float64')"
      ]
     },
     "execution_count": 386,
     "metadata": {},
     "output_type": "execute_result"
    }
   ],
   "source": [
    "loan_df['no_delinquency_2yrs'].dtype"
   ]
  },
  {
   "cell_type": "code",
   "execution_count": 387,
   "metadata": {},
   "outputs": [
    {
     "data": {
      "text/plain": [
       "no_delinquency_2yrs\n",
       "0.0     34201\n",
       "1.0      3244\n",
       "2.0       700\n",
       "3.0       224\n",
       "4.0        62\n",
       "5.0        26\n",
       "6.0        13\n",
       "7.0         5\n",
       "11.0        2\n",
       "9.0         1\n",
       "8.0         1\n",
       "Name: count, dtype: int64"
      ]
     },
     "execution_count": 387,
     "metadata": {},
     "output_type": "execute_result"
    }
   ],
   "source": [
    "loan_df['no_delinquency_2yrs'].value_counts()"
   ]
  },
  {
   "cell_type": "markdown",
   "metadata": {},
   "source": [
    "Column 'earliest_credit_line'"
   ]
  },
  {
   "cell_type": "code",
   "execution_count": 388,
   "metadata": {},
   "outputs": [
    {
     "data": {
      "text/plain": [
       "dtype('O')"
      ]
     },
     "execution_count": 388,
     "metadata": {},
     "output_type": "execute_result"
    }
   ],
   "source": [
    "loan_df['earliest_credit_line'].dtype"
   ]
  },
  {
   "cell_type": "code",
   "execution_count": 389,
   "metadata": {},
   "outputs": [
    {
     "data": {
      "text/plain": [
       "earliest_credit_line\n",
       "1998-11-01    352\n",
       "1999-10-01    351\n",
       "2000-10-01    339\n",
       "1998-12-01    326\n",
       "1999-11-01    314\n",
       "             ... \n",
       "1969-05-01      1\n",
       "1946-01-01      1\n",
       "1961-12-01      1\n",
       "1968-04-01      1\n",
       "1959-11-01      1\n",
       "Name: count, Length: 528, dtype: int64"
      ]
     },
     "execution_count": 389,
     "metadata": {},
     "output_type": "execute_result"
    }
   ],
   "source": [
    "loan_df['earliest_credit_line'].value_counts()"
   ]
  },
  {
   "cell_type": "markdown",
   "metadata": {},
   "source": [
    "Column 'inquiries_last_6mths'"
   ]
  },
  {
   "cell_type": "code",
   "execution_count": 390,
   "metadata": {},
   "outputs": [
    {
     "data": {
      "text/plain": [
       "dtype('float64')"
      ]
     },
     "execution_count": 390,
     "metadata": {},
     "output_type": "execute_result"
    }
   ],
   "source": [
    "loan_df['inquiries_last_6mths'].dtype"
   ]
  },
  {
   "cell_type": "code",
   "execution_count": 391,
   "metadata": {},
   "outputs": [
    {
     "data": {
      "text/plain": [
       "inquiries_last_6mths\n",
       "0.0     17788\n",
       "1.0     10149\n",
       "2.0      5452\n",
       "3.0      2878\n",
       "4.0       955\n",
       "5.0       551\n",
       "6.0       304\n",
       "7.0       165\n",
       "8.0       104\n",
       "9.0        45\n",
       "10.0       23\n",
       "11.0       14\n",
       "12.0       12\n",
       "15.0        9\n",
       "14.0        6\n",
       "13.0        5\n",
       "18.0        4\n",
       "16.0        3\n",
       "19.0        2\n",
       "24.0        2\n",
       "27.0        1\n",
       "32.0        1\n",
       "31.0        1\n",
       "33.0        1\n",
       "25.0        1\n",
       "20.0        1\n",
       "17.0        1\n",
       "28.0        1\n",
       "Name: count, dtype: int64"
      ]
     },
     "execution_count": 391,
     "metadata": {},
     "output_type": "execute_result"
    }
   ],
   "source": [
    "loan_df['inquiries_last_6mths'].value_counts()"
   ]
  },
  {
   "cell_type": "markdown",
   "metadata": {},
   "source": [
    "Column 'months_since_last_delinquency'"
   ]
  },
  {
   "cell_type": "code",
   "execution_count": 392,
   "metadata": {},
   "outputs": [
    {
     "data": {
      "text/plain": [
       "dtype('float64')"
      ]
     },
     "execution_count": 392,
     "metadata": {},
     "output_type": "execute_result"
    }
   ],
   "source": [
    "loan_df['months_since_last_delinquency'].dtype"
   ]
  },
  {
   "cell_type": "code",
   "execution_count": 393,
   "metadata": {},
   "outputs": [
    {
     "data": {
      "text/plain": [
       "months_since_last_delinquency\n",
       "0.0      746\n",
       "30.0     246\n",
       "19.0     242\n",
       "15.0     238\n",
       "24.0     235\n",
       "        ... \n",
       "96.0       1\n",
       "120.0      1\n",
       "89.0       1\n",
       "95.0       1\n",
       "106.0      1\n",
       "Name: count, Length: 93, dtype: int64"
      ]
     },
     "execution_count": 393,
     "metadata": {},
     "output_type": "execute_result"
    }
   ],
   "source": [
    "loan_df['months_since_last_delinquency'].value_counts()"
   ]
  },
  {
   "cell_type": "markdown",
   "metadata": {},
   "source": [
    "Column 'no_open_accounts'"
   ]
  },
  {
   "cell_type": "code",
   "execution_count": 394,
   "metadata": {},
   "outputs": [
    {
     "data": {
      "text/plain": [
       "dtype('float64')"
      ]
     },
     "execution_count": 394,
     "metadata": {},
     "output_type": "execute_result"
    }
   ],
   "source": [
    "loan_df['no_open_accounts'].dtype"
   ]
  },
  {
   "cell_type": "code",
   "execution_count": 395,
   "metadata": {},
   "outputs": [
    {
     "data": {
      "text/plain": [
       "no_open_accounts\n",
       "7.0     3847\n",
       "8.0     3778\n",
       "6.0     3756\n",
       "9.0     3547\n",
       "5.0     3086\n",
       "10.0    3059\n",
       "11.0    2686\n",
       "4.0     2268\n",
       "12.0    2167\n",
       "13.0    1864\n",
       "3.0     1447\n",
       "14.0    1433\n",
       "15.0    1168\n",
       "16.0     925\n",
       "17.0     728\n",
       "2.0      631\n",
       "18.0     533\n",
       "19.0     401\n",
       "20.0     303\n",
       "21.0     251\n",
       "22.0     153\n",
       "23.0     108\n",
       "24.0      82\n",
       "25.0      60\n",
       "26.0      39\n",
       "1.0       34\n",
       "28.0      27\n",
       "27.0      24\n",
       "30.0      17\n",
       "29.0      14\n",
       "31.0      13\n",
       "34.0       8\n",
       "32.0       6\n",
       "33.0       4\n",
       "38.0       2\n",
       "35.0       2\n",
       "0.0        1\n",
       "41.0       1\n",
       "39.0       1\n",
       "36.0       1\n",
       "44.0       1\n",
       "42.0       1\n",
       "37.0       1\n",
       "47.0       1\n",
       "Name: count, dtype: int64"
      ]
     },
     "execution_count": 395,
     "metadata": {},
     "output_type": "execute_result"
    }
   ],
   "source": [
    "loan_df['no_open_accounts'].value_counts()"
   ]
  },
  {
   "cell_type": "markdown",
   "metadata": {},
   "source": [
    "Column 'public_records'"
   ]
  },
  {
   "cell_type": "code",
   "execution_count": 396,
   "metadata": {},
   "outputs": [
    {
     "data": {
      "text/plain": [
       "dtype('float64')"
      ]
     },
     "execution_count": 396,
     "metadata": {},
     "output_type": "execute_result"
    }
   ],
   "source": [
    "loan_df['public_records'].dtype"
   ]
  },
  {
   "cell_type": "code",
   "execution_count": 397,
   "metadata": {},
   "outputs": [
    {
     "data": {
      "text/plain": [
       "public_records\n",
       "0.0    36340\n",
       "1.0     2068\n",
       "2.0       57\n",
       "3.0       11\n",
       "4.0        2\n",
       "5.0        1\n",
       "Name: count, dtype: int64"
      ]
     },
     "execution_count": 397,
     "metadata": {},
     "output_type": "execute_result"
    }
   ],
   "source": [
    "loan_df['public_records'].value_counts()"
   ]
  },
  {
   "cell_type": "markdown",
   "metadata": {},
   "source": [
    "Column 'revolving_balance'"
   ]
  },
  {
   "cell_type": "code",
   "execution_count": 398,
   "metadata": {},
   "outputs": [
    {
     "data": {
      "text/plain": [
       "dtype('float64')"
      ]
     },
     "execution_count": 398,
     "metadata": {},
     "output_type": "execute_result"
    }
   ],
   "source": [
    "loan_df['revolving_balance'].dtype"
   ]
  },
  {
   "cell_type": "code",
   "execution_count": 399,
   "metadata": {},
   "outputs": [
    {
     "data": {
      "text/plain": [
       "revolving_balance\n",
       "0.0        977\n",
       "255.0       14\n",
       "298.0       14\n",
       "400.0       10\n",
       "6.0         10\n",
       "          ... \n",
       "825.0        1\n",
       "19980.0      1\n",
       "18746.0      1\n",
       "7635.0       1\n",
       "33981.0      1\n",
       "Name: count, Length: 21470, dtype: int64"
      ]
     },
     "execution_count": 399,
     "metadata": {},
     "output_type": "execute_result"
    }
   ],
   "source": [
    "loan_df['revolving_balance'].value_counts()"
   ]
  },
  {
   "cell_type": "markdown",
   "metadata": {},
   "source": [
    "Column 'revolving_utillization'"
   ]
  },
  {
   "cell_type": "code",
   "execution_count": 400,
   "metadata": {},
   "outputs": [
    {
     "data": {
      "text/plain": [
       "dtype('O')"
      ]
     },
     "execution_count": 400,
     "metadata": {},
     "output_type": "execute_result"
    }
   ],
   "source": [
    "loan_df['revolving_utillization'].dtype"
   ]
  },
  {
   "cell_type": "code",
   "execution_count": 401,
   "metadata": {},
   "outputs": [
    {
     "data": {
      "text/plain": [
       "revolving_utillization\n",
       "0.0       559\n",
       "0         390\n",
       "0.708      38\n",
       "0.478      36\n",
       "0.255      35\n",
       "         ... \n",
       "0.0012      1\n",
       "0.2977      1\n",
       "0.3688      1\n",
       "0.1602      1\n",
       "0.3773      1\n",
       "Name: count, Length: 2110, dtype: int64"
      ]
     },
     "execution_count": 401,
     "metadata": {},
     "output_type": "execute_result"
    }
   ],
   "source": [
    "loan_df['revolving_utillization'].value_counts()"
   ]
  },
  {
   "cell_type": "code",
   "execution_count": 402,
   "metadata": {},
   "outputs": [
    {
     "data": {
      "text/plain": [
       "array(['“0.00%”', '0.213', '0.999', ..., 0.3688, 0.1602, 0.3773],\n",
       "      dtype=object)"
      ]
     },
     "execution_count": 402,
     "metadata": {},
     "output_type": "execute_result"
    }
   ],
   "source": [
    "loan_df['revolving_utillization'].unique()"
   ]
  },
  {
   "cell_type": "code",
   "execution_count": 403,
   "metadata": {},
   "outputs": [
    {
     "data": {
      "text/plain": [
       "revolving_utillization\n",
       "0         560\n",
       "0         390\n",
       "0.708      38\n",
       "0.478      36\n",
       "0.552      35\n",
       "         ... \n",
       "0.0012      1\n",
       "0.2977      1\n",
       "0.3688      1\n",
       "0.1602      1\n",
       "0.3773      1\n",
       "Name: count, Length: 2109, dtype: int64"
      ]
     },
     "execution_count": 403,
     "metadata": {},
     "output_type": "execute_result"
    }
   ],
   "source": [
    "loan_df['revolving_utillization'] = loan_df['revolving_utillization'].replace({'“0.00%”': 0})\n",
    "loan_df['revolving_utillization'].value_counts()"
   ]
  },
  {
   "cell_type": "code",
   "execution_count": 404,
   "metadata": {},
   "outputs": [
    {
     "data": {
      "text/plain": [
       "revolving_utillization\n",
       "0.0000    950\n",
       "0.7080     38\n",
       "0.4780     36\n",
       "0.5520     35\n",
       "0.6690     35\n",
       "         ... \n",
       "0.0012      1\n",
       "0.2977      1\n",
       "0.3688      1\n",
       "0.1602      1\n",
       "0.3773      1\n",
       "Name: count, Length: 2108, dtype: int64"
      ]
     },
     "execution_count": 404,
     "metadata": {},
     "output_type": "execute_result"
    }
   ],
   "source": [
    "loan_df['revolving_utillization'] = loan_df['revolving_utillization'].replace({'0': 0})\n",
    "loan_df['revolving_utillization'].value_counts()"
   ]
  },
  {
   "cell_type": "code",
   "execution_count": 405,
   "metadata": {},
   "outputs": [
    {
     "data": {
      "text/plain": [
       "array([0, '0.213', '0.999', ..., 0.3688, 0.1602, 0.3773], dtype=object)"
      ]
     },
     "execution_count": 405,
     "metadata": {},
     "output_type": "execute_result"
    }
   ],
   "source": [
    "loan_df['revolving_utillization'].unique()"
   ]
  },
  {
   "cell_type": "markdown",
   "metadata": {},
   "source": [
    "Column 'no_total_account'"
   ]
  },
  {
   "cell_type": "code",
   "execution_count": 406,
   "metadata": {},
   "outputs": [
    {
     "data": {
      "text/plain": [
       "dtype('float64')"
      ]
     },
     "execution_count": 406,
     "metadata": {},
     "output_type": "execute_result"
    }
   ],
   "source": [
    "loan_df['no_total_account'].dtype"
   ]
  },
  {
   "cell_type": "code",
   "execution_count": 407,
   "metadata": {},
   "outputs": [
    {
     "data": {
      "text/plain": [
       "no_total_account\n",
       "15.0    1423\n",
       "16.0    1408\n",
       "14.0    1387\n",
       "17.0    1385\n",
       "18.0    1362\n",
       "        ... \n",
       "87.0       1\n",
       "74.0       1\n",
       "71.0       1\n",
       "72.0       1\n",
       "68.0       1\n",
       "Name: count, Length: 81, dtype: int64"
      ]
     },
     "execution_count": 407,
     "metadata": {},
     "output_type": "execute_result"
    }
   ],
   "source": [
    "loan_df['no_total_account'].value_counts()"
   ]
  },
  {
   "cell_type": "markdown",
   "metadata": {},
   "source": [
    "Column 'total_payment'"
   ]
  },
  {
   "cell_type": "code",
   "execution_count": 408,
   "metadata": {},
   "outputs": [
    {
     "data": {
      "text/plain": [
       "dtype('float64')"
      ]
     },
     "execution_count": 408,
     "metadata": {},
     "output_type": "execute_result"
    }
   ],
   "source": [
    "loan_df['total_payment'].dtype"
   ]
  },
  {
   "cell_type": "code",
   "execution_count": 409,
   "metadata": {},
   "outputs": [
    {
     "data": {
      "text/plain": [
       "total_payment\n",
       "0.000000        21\n",
       "11196.569430    21\n",
       "11784.232230    16\n",
       "10956.775960    15\n",
       "13148.137860    14\n",
       "                ..\n",
       "8991.939341      1\n",
       "7023.835297      1\n",
       "6108.790000      1\n",
       "12703.534030     1\n",
       "9385.106074      1\n",
       "Name: count, Length: 36820, dtype: int64"
      ]
     },
     "execution_count": 409,
     "metadata": {},
     "output_type": "execute_result"
    }
   ],
   "source": [
    "loan_df['total_payment'].value_counts()"
   ]
  },
  {
   "cell_type": "markdown",
   "metadata": {},
   "source": [
    "Column 'total_payment_investors'"
   ]
  },
  {
   "cell_type": "code",
   "execution_count": 410,
   "metadata": {},
   "outputs": [
    {
     "data": {
      "text/plain": [
       "dtype('float64')"
      ]
     },
     "execution_count": 410,
     "metadata": {},
     "output_type": "execute_result"
    }
   ],
   "source": [
    "loan_df['total_payment_investors'].dtype"
   ]
  },
  {
   "cell_type": "code",
   "execution_count": 411,
   "metadata": {},
   "outputs": [
    {
     "data": {
      "text/plain": [
       "total_payment_investors\n",
       "0.00        262\n",
       "6514.52      14\n",
       "5478.39      13\n",
       "13148.14     13\n",
       "10956.78     12\n",
       "           ... \n",
       "86.05         1\n",
       "8991.94       1\n",
       "6086.77       1\n",
       "12703.53      1\n",
       "14346.21      1\n",
       "Name: count, Length: 36374, dtype: int64"
      ]
     },
     "execution_count": 411,
     "metadata": {},
     "output_type": "execute_result"
    }
   ],
   "source": [
    "loan_df['total_payment_investors'].value_counts()"
   ]
  },
  {
   "cell_type": "markdown",
   "metadata": {},
   "source": [
    "Column 'total_received_principal'"
   ]
  },
  {
   "cell_type": "code",
   "execution_count": 412,
   "metadata": {},
   "outputs": [
    {
     "data": {
      "text/plain": [
       "dtype('float64')"
      ]
     },
     "execution_count": 412,
     "metadata": {},
     "output_type": "execute_result"
    }
   ],
   "source": [
    "loan_df['total_received_principal'].dtype"
   ]
  },
  {
   "cell_type": "code",
   "execution_count": 413,
   "metadata": {},
   "outputs": [
    {
     "data": {
      "text/plain": [
       "total_received_principal\n",
       "10000.00    2181\n",
       "12000.00    1729\n",
       "5000.00     1650\n",
       "6000.00     1565\n",
       "15000.00    1349\n",
       "            ... \n",
       "19687.25       1\n",
       "3501.49        1\n",
       "5371.48        1\n",
       "951.07         1\n",
       "1909.02        1\n",
       "Name: count, Length: 7907, dtype: int64"
      ]
     },
     "execution_count": 413,
     "metadata": {},
     "output_type": "execute_result"
    }
   ],
   "source": [
    "loan_df['total_received_principal'].value_counts()"
   ]
  },
  {
   "cell_type": "markdown",
   "metadata": {},
   "source": [
    "Column 'total_received_interest'"
   ]
  },
  {
   "cell_type": "code",
   "execution_count": 414,
   "metadata": {},
   "outputs": [
    {
     "data": {
      "text/plain": [
       "dtype('float64')"
      ]
     },
     "execution_count": 414,
     "metadata": {},
     "output_type": "execute_result"
    }
   ],
   "source": [
    "loan_df['total_received_interest'].dtype"
   ]
  },
  {
   "cell_type": "code",
   "execution_count": 415,
   "metadata": {},
   "outputs": [
    {
     "data": {
      "text/plain": [
       "total_received_interest\n",
       "0.00       72\n",
       "1196.57    21\n",
       "1784.23    17\n",
       "514.52     17\n",
       "717.95     16\n",
       "           ..\n",
       "7855.74     1\n",
       "1791.94     1\n",
       "995.23      1\n",
       "2303.53     1\n",
       "3652.27     1\n",
       "Name: count, Length: 34249, dtype: int64"
      ]
     },
     "execution_count": 415,
     "metadata": {},
     "output_type": "execute_result"
    }
   ],
   "source": [
    "loan_df['total_received_interest'].value_counts()"
   ]
  },
  {
   "cell_type": "markdown",
   "metadata": {},
   "source": [
    "Column 'last_payment_date'"
   ]
  },
  {
   "cell_type": "code",
   "execution_count": 416,
   "metadata": {},
   "outputs": [
    {
     "data": {
      "text/plain": [
       "dtype('O')"
      ]
     },
     "execution_count": 416,
     "metadata": {},
     "output_type": "execute_result"
    }
   ],
   "source": [
    "loan_df['last_payment_date'].dtype"
   ]
  },
  {
   "cell_type": "code",
   "execution_count": 417,
   "metadata": {},
   "outputs": [
    {
     "data": {
      "text/plain": [
       "last_payment_date\n",
       "2016-06-01    1022\n",
       "2013-03-01     966\n",
       "2014-12-01     870\n",
       "2013-05-01     856\n",
       "2013-02-01     808\n",
       "              ... \n",
       "2008-01-01       8\n",
       "2008-02-01       6\n",
       "2007-12-01       2\n",
       "1999-01-01       1\n",
       "2007-01-01       1\n",
       "Name: count, Length: 105, dtype: int64"
      ]
     },
     "execution_count": 417,
     "metadata": {},
     "output_type": "execute_result"
    }
   ],
   "source": [
    "loan_df['last_payment_date'].value_counts()"
   ]
  },
  {
   "cell_type": "markdown",
   "metadata": {},
   "source": [
    "Column 'last_payment_amnt'"
   ]
  },
  {
   "cell_type": "code",
   "execution_count": 418,
   "metadata": {},
   "outputs": [
    {
     "data": {
      "text/plain": [
       "dtype('float64')"
      ]
     },
     "execution_count": 418,
     "metadata": {},
     "output_type": "execute_result"
    }
   ],
   "source": [
    "loan_df['last_payment_amnt'].dtype"
   ]
  },
  {
   "cell_type": "code",
   "execution_count": 419,
   "metadata": {},
   "outputs": [
    {
     "data": {
      "text/plain": [
       "last_payment_amnt\n",
       "0.00       78\n",
       "200.00     17\n",
       "276.06     17\n",
       "50.00      16\n",
       "100.00     15\n",
       "           ..\n",
       "222.22      1\n",
       "393.08      1\n",
       "5439.96     1\n",
       "380.63      1\n",
       "146.75      1\n",
       "Name: count, Length: 33868, dtype: int64"
      ]
     },
     "execution_count": 419,
     "metadata": {},
     "output_type": "execute_result"
    }
   ],
   "source": [
    "loan_df['last_payment_amnt'].value_counts()"
   ]
  },
  {
   "cell_type": "markdown",
   "metadata": {},
   "source": [
    "Column 'next_payment_date'"
   ]
  },
  {
   "cell_type": "code",
   "execution_count": 420,
   "metadata": {},
   "outputs": [
    {
     "data": {
      "text/plain": [
       "dtype('O')"
      ]
     },
     "execution_count": 420,
     "metadata": {},
     "output_type": "execute_result"
    }
   ],
   "source": [
    "loan_df['next_payment_date'].dtype"
   ]
  },
  {
   "cell_type": "code",
   "execution_count": 421,
   "metadata": {},
   "outputs": [
    {
     "data": {
      "text/plain": [
       "next_payment_date\n",
       "2016-07-01    909\n",
       "2011-03-01    100\n",
       "2011-04-01     87\n",
       "2011-02-01     85\n",
       "2011-01-01     72\n",
       "             ... \n",
       "2015-03-01      1\n",
       "2008-02-01      1\n",
       "2016-06-01      1\n",
       "2007-12-01      1\n",
       "2014-09-01      1\n",
       "Name: count, Length: 103, dtype: int64"
      ]
     },
     "execution_count": 421,
     "metadata": {},
     "output_type": "execute_result"
    }
   ],
   "source": [
    "loan_df['next_payment_date'].value_counts()"
   ]
  },
  {
   "cell_type": "markdown",
   "metadata": {},
   "source": [
    "Column 'last_credit_pull_date'"
   ]
  },
  {
   "cell_type": "code",
   "execution_count": 422,
   "metadata": {},
   "outputs": [
    {
     "data": {
      "text/plain": [
       "dtype('O')"
      ]
     },
     "execution_count": 422,
     "metadata": {},
     "output_type": "execute_result"
    }
   ],
   "source": [
    "loan_df['last_credit_pull_date'].dtype"
   ]
  },
  {
   "cell_type": "code",
   "execution_count": 423,
   "metadata": {},
   "outputs": [
    {
     "data": {
      "text/plain": [
       "last_credit_pull_date\n",
       "2016-06-01    11342\n",
       "2016-03-01     1015\n",
       "2016-04-01      816\n",
       "2013-02-01      794\n",
       "2016-05-01      695\n",
       "              ...  \n",
       "2007-05-01        1\n",
       "2008-07-01        1\n",
       "2007-07-01        1\n",
       "2008-06-01        1\n",
       "2008-05-01        1\n",
       "Name: count, Length: 110, dtype: int64"
      ]
     },
     "execution_count": 423,
     "metadata": {},
     "output_type": "execute_result"
    }
   ],
   "source": [
    "loan_df['last_credit_pull_date'].value_counts()"
   ]
  },
  {
   "cell_type": "markdown",
   "metadata": {},
   "source": [
    "Column 'repay_fail'"
   ]
  },
  {
   "cell_type": "code",
   "execution_count": 424,
   "metadata": {},
   "outputs": [
    {
     "data": {
      "text/plain": [
       "dtype('int64')"
      ]
     },
     "execution_count": 424,
     "metadata": {},
     "output_type": "execute_result"
    }
   ],
   "source": [
    "loan_df['repay_fail'].dtype"
   ]
  },
  {
   "cell_type": "code",
   "execution_count": 425,
   "metadata": {},
   "outputs": [
    {
     "data": {
      "text/plain": [
       "repay_fail\n",
       "0    32651\n",
       "1     5829\n",
       "Name: count, dtype: int64"
      ]
     },
     "execution_count": 425,
     "metadata": {},
     "output_type": "execute_result"
    }
   ],
   "source": [
    "loan_df['repay_fail'].value_counts()"
   ]
  },
  {
   "cell_type": "code",
   "execution_count": 426,
   "metadata": {},
   "outputs": [],
   "source": [
    "# save any changes to csv\n",
    "loan_df.to_csv('loan_default_data_formatted.csv')"
   ]
  }
 ],
 "metadata": {
  "kernelspec": {
   "display_name": "venv",
   "language": "python",
   "name": "python3"
  },
  "language_info": {
   "codemirror_mode": {
    "name": "ipython",
    "version": 3
   },
   "file_extension": ".py",
   "mimetype": "text/x-python",
   "name": "python",
   "nbconvert_exporter": "python",
   "pygments_lexer": "ipython3",
   "version": "3.10.0"
  }
 },
 "nbformat": 4,
 "nbformat_minor": 2
}
